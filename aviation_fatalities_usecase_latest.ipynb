{
 "cells": [
  {
   "cell_type": "code",
   "execution_count": 2,
   "metadata": {
    "id": "x3QoMYzN-5Vm"
   },
   "outputs": [],
   "source": [
    "#Importing all the necessary packages\n",
    "\n",
    "import numpy as np # linear algebra\n",
    "import pandas as pd # data processing, CSV file I/O (e.g. pd.read_csv)\n",
    "import seaborn as sns\n",
    "import matplotlib.pyplot as plt\n",
    "import warnings\n",
    "import scipy\n",
    "import itertools\n",
    "pd.options.display.float_format = '{:,.5f}'.format\n",
    "warnings.filterwarnings(\"ignore\")\n",
    "%matplotlib inline\n",
    "from scipy.stats.mstats import kruskalwallis\n",
    "from imblearn.under_sampling import RandomUnderSampler\n",
    "from sklearn.utils import resample\n",
    "import pickle as pkl"
   ]
  },
  {
   "cell_type": "markdown",
   "metadata": {
    "id": "-L7riLOx-5Vp"
   },
   "source": [
    "# Reading and loading the data from the csv file through the Kaggle API"
   ]
  },
  {
   "cell_type": "code",
   "execution_count": 4,
   "metadata": {
    "colab": {
     "base_uri": "https://localhost:8080/"
    },
    "id": "gC5XiA8MFo9I",
    "outputId": "ff6bee6a-baf0-481d-bf62-35a1758b3867"
   },
   "outputs": [
    {
     "name": "stdout",
     "output_type": "stream",
     "text": [
      "Mounted at /content/gdrive\n"
     ]
    }
   ],
   "source": [
    "#Linking the google colab with our own google drive for storing files\n",
    "\n",
    "from google.colab import drive\n",
    "drive.mount('/content/gdrive')"
   ]
  },
  {
   "cell_type": "code",
   "execution_count": 5,
   "metadata": {
    "colab": {
     "base_uri": "https://localhost:8080/"
    },
    "id": "p3Jo3CCAKIpo",
    "outputId": "6b2d1a31-297b-49a6-84b5-1573ee125901"
   },
   "outputs": [
    {
     "name": "stdout",
     "output_type": "stream",
     "text": [
      "kaggle.json\n",
      "-rw------- 1 root root 66 May 13 10:14 /root/.kaggle/kaggle.json\n"
     ]
    }
   ],
   "source": [
    "#Creating a new directory in the root folder\n",
    "!mkdir -p ~/.kaggle\n",
    "\n",
    "#Copying our Kaggle API key to the new folder\n",
    "!cp /content/gdrive/MyDrive/Kaggle/kaggle.json ~/.kaggle/\n",
    "\n",
    "# Check the file in its new directory\n",
    "!ls /root/.kaggle/\n",
    "\n",
    "# Check the file permission\n",
    "!ls -l ~/.kaggle/kaggle.json\n",
    "\n",
    "#Change the file permission\n",
    "# chmod 600 file – owner can read and write\n",
    "# chmod 700 file – owner can read, write and execute\n",
    "\n",
    "!chmod 600 ~/.kaggle/kaggle.json"
   ]
  },
  {
   "cell_type": "code",
   "execution_count": 6,
   "metadata": {
    "colab": {
     "base_uri": "https://localhost:8080/"
    },
    "id": "3Oo_zGKRKfA9",
    "outputId": "976aab2c-604b-4dac-9be1-5c4c9243e20a"
   },
   "outputs": [
    {
     "name": "stdout",
     "output_type": "stream",
     "text": [
      "Warning: Looks like you're using an outdated API Version, please consider updating (server 1.5.12 / client 1.5.4)\n",
      "Downloading test.csv.zip to /content\n",
      "100% 1.67G/1.67G [00:18<00:00, 82.5MB/s]\n",
      "100% 1.67G/1.67G [00:18<00:00, 95.3MB/s]\n",
      "Downloading sample_submission.csv.zip to /content\n",
      " 85% 35.0M/41.2M [00:00<00:00, 104MB/s] \n",
      "100% 41.2M/41.2M [00:00<00:00, 115MB/s]\n",
      "Downloading train.csv.zip to /content\n",
      " 99% 430M/435M [00:06<00:00, 104MB/s] \n",
      "100% 435M/435M [00:06<00:00, 73.1MB/s]\n"
     ]
    }
   ],
   "source": [
    "#Downloading the data through the Kaggle API to the local filesystem\n",
    "!kaggle competitions download -c reducing-commercial-aviation-fatalities"
   ]
  },
  {
   "cell_type": "markdown",
   "metadata": {},
   "source": [
    "# Optimizing the datatypes for efficient data storage into the computer memory"
   ]
  },
  {
   "cell_type": "code",
   "execution_count": 9,
   "metadata": {
    "id": "UjbcQ4aiAj7Q"
   },
   "outputs": [],
   "source": [
    "#Optimizng the datatypes for efficient data storage into the computer memory\n",
    "datatypes = {}\n",
    "datatypes['crew']=np.int8\n",
    "\n",
    "for col in [ 'time', 'eeg_fp1', 'eeg_f7', 'eeg_f8','eeg_t4', 'eeg_t6', 'eeg_t5', 'eeg_t3', 'eeg_fp2', 'eeg_o1', 'eeg_p3',\n",
    "            'eeg_pz', 'eeg_f3', 'eeg_fz', 'eeg_f4', 'eeg_c4', 'eeg_p4', 'eeg_poz',\n",
    "       'eeg_c3', 'eeg_cz', 'eeg_o2', 'ecg', 'r', 'gsr']:\n",
    "       datatypes[col]=np.float32"
   ]
  },
  {
   "cell_type": "code",
   "execution_count": 10,
   "metadata": {
    "colab": {
     "base_uri": "https://localhost:8080/"
    },
    "id": "GSGusMgcxB7J",
    "outputId": "b0163ff3-13f6-46f1-960a-f4c5c77e3dde"
   },
   "outputs": [
    {
     "name": "stdout",
     "output_type": "stream",
     "text": [
      "Archive:  train.csv.zip\n",
      "  inflating: train.csv               \n"
     ]
    }
   ],
   "source": [
    "#Unzipping the \n",
    "\n",
    "!unzip train.csv.zip"
   ]
  },
  {
   "cell_type": "code",
   "execution_count": 11,
   "metadata": {
    "id": "w3URPyeH-5Vq"
   },
   "outputs": [],
   "source": [
    "#Reading the train data csv file\n",
    "df = pd.read_csv('train.csv',dtype=datatypes)"
   ]
  },
  {
   "cell_type": "markdown",
   "metadata": {},
   "source": [
    "# Profiling the data"
   ]
  },
  {
   "cell_type": "code",
   "execution_count": 12,
   "metadata": {
    "colab": {
     "base_uri": "https://localhost:8080/"
    },
    "id": "6d9Bo6ZH-5Vq",
    "outputId": "acb14b94-b4c3-48d2-e66e-7a8be9f9dde9"
   },
   "outputs": [
    {
     "name": "stdout",
     "output_type": "stream",
     "text": [
      "<class 'pandas.core.frame.DataFrame'>\n",
      "RangeIndex: 4867421 entries, 0 to 4867420\n",
      "Data columns (total 28 columns):\n",
      " #   Column      Dtype  \n",
      "---  ------      -----  \n",
      " 0   crew        int8   \n",
      " 1   experiment  object \n",
      " 2   time        float32\n",
      " 3   seat        int64  \n",
      " 4   eeg_fp1     float32\n",
      " 5   eeg_f7      float32\n",
      " 6   eeg_f8      float32\n",
      " 7   eeg_t4      float32\n",
      " 8   eeg_t6      float32\n",
      " 9   eeg_t5      float32\n",
      " 10  eeg_t3      float32\n",
      " 11  eeg_fp2     float32\n",
      " 12  eeg_o1      float32\n",
      " 13  eeg_p3      float32\n",
      " 14  eeg_pz      float32\n",
      " 15  eeg_f3      float32\n",
      " 16  eeg_fz      float32\n",
      " 17  eeg_f4      float32\n",
      " 18  eeg_c4      float32\n",
      " 19  eeg_p4      float32\n",
      " 20  eeg_poz     float32\n",
      " 21  eeg_c3      float32\n",
      " 22  eeg_cz      float32\n",
      " 23  eeg_o2      float32\n",
      " 24  ecg         float32\n",
      " 25  r           float32\n",
      " 26  gsr         float32\n",
      " 27  event       object \n",
      "dtypes: float32(24), int64(1), int8(1), object(2)\n",
      "memory usage: 561.7+ MB\n"
     ]
    }
   ],
   "source": [
    "df.info()"
   ]
  },
  {
   "cell_type": "code",
   "execution_count": 13,
   "metadata": {
    "colab": {
     "base_uri": "https://localhost:8080/",
     "height": 217
    },
    "id": "vsHJwg8IRgfY",
    "outputId": "45c0e958-aa0a-4665-9adf-7567d35311ed"
   },
   "outputs": [
    {
     "data": {
      "text/html": [
       "<div>\n",
       "<style scoped>\n",
       "    .dataframe tbody tr th:only-of-type {\n",
       "        vertical-align: middle;\n",
       "    }\n",
       "\n",
       "    .dataframe tbody tr th {\n",
       "        vertical-align: top;\n",
       "    }\n",
       "\n",
       "    .dataframe thead th {\n",
       "        text-align: right;\n",
       "    }\n",
       "</style>\n",
       "<table border=\"1\" class=\"dataframe\">\n",
       "  <thead>\n",
       "    <tr style=\"text-align: right;\">\n",
       "      <th></th>\n",
       "      <th>crew</th>\n",
       "      <th>experiment</th>\n",
       "      <th>time</th>\n",
       "      <th>seat</th>\n",
       "      <th>eeg_fp1</th>\n",
       "      <th>eeg_f7</th>\n",
       "      <th>eeg_f8</th>\n",
       "      <th>eeg_t4</th>\n",
       "      <th>eeg_t6</th>\n",
       "      <th>eeg_t5</th>\n",
       "      <th>eeg_t3</th>\n",
       "      <th>eeg_fp2</th>\n",
       "      <th>eeg_o1</th>\n",
       "      <th>eeg_p3</th>\n",
       "      <th>eeg_pz</th>\n",
       "      <th>eeg_f3</th>\n",
       "      <th>eeg_fz</th>\n",
       "      <th>eeg_f4</th>\n",
       "      <th>eeg_c4</th>\n",
       "      <th>eeg_p4</th>\n",
       "      <th>eeg_poz</th>\n",
       "      <th>eeg_c3</th>\n",
       "      <th>eeg_cz</th>\n",
       "      <th>eeg_o2</th>\n",
       "      <th>ecg</th>\n",
       "      <th>r</th>\n",
       "      <th>gsr</th>\n",
       "      <th>event</th>\n",
       "    </tr>\n",
       "  </thead>\n",
       "  <tbody>\n",
       "    <tr>\n",
       "      <th>0</th>\n",
       "      <td>1</td>\n",
       "      <td>CA</td>\n",
       "      <td>0.01172</td>\n",
       "      <td>1</td>\n",
       "      <td>-5.28545</td>\n",
       "      <td>26.77580</td>\n",
       "      <td>-9.52731</td>\n",
       "      <td>-12.79320</td>\n",
       "      <td>16.71780</td>\n",
       "      <td>33.73750</td>\n",
       "      <td>23.71230</td>\n",
       "      <td>-6.69587</td>\n",
       "      <td>29.23210</td>\n",
       "      <td>24.84290</td>\n",
       "      <td>3.92134</td>\n",
       "      <td>18.44700</td>\n",
       "      <td>1.07547</td>\n",
       "      <td>3.09029</td>\n",
       "      <td>37.36900</td>\n",
       "      <td>17.43760</td>\n",
       "      <td>19.20190</td>\n",
       "      <td>20.59680</td>\n",
       "      <td>-3.95115</td>\n",
       "      <td>14.50760</td>\n",
       "      <td>-4,520.00000</td>\n",
       "      <td>817.70599</td>\n",
       "      <td>388.82999</td>\n",
       "      <td>A</td>\n",
       "    </tr>\n",
       "    <tr>\n",
       "      <th>1</th>\n",
       "      <td>1</td>\n",
       "      <td>CA</td>\n",
       "      <td>0.01562</td>\n",
       "      <td>1</td>\n",
       "      <td>-2.42842</td>\n",
       "      <td>28.43090</td>\n",
       "      <td>-9.32351</td>\n",
       "      <td>-3.75723</td>\n",
       "      <td>15.96930</td>\n",
       "      <td>30.44360</td>\n",
       "      <td>21.01030</td>\n",
       "      <td>-6.47472</td>\n",
       "      <td>26.64140</td>\n",
       "      <td>24.13880</td>\n",
       "      <td>5.46991</td>\n",
       "      <td>20.51060</td>\n",
       "      <td>2.83354</td>\n",
       "      <td>7.10177</td>\n",
       "      <td>31.17080</td>\n",
       "      <td>19.39970</td>\n",
       "      <td>19.68950</td>\n",
       "      <td>21.35470</td>\n",
       "      <td>1.33212</td>\n",
       "      <td>17.75020</td>\n",
       "      <td>-4,520.00000</td>\n",
       "      <td>817.70599</td>\n",
       "      <td>388.82999</td>\n",
       "      <td>A</td>\n",
       "    </tr>\n",
       "    <tr>\n",
       "      <th>2</th>\n",
       "      <td>1</td>\n",
       "      <td>CA</td>\n",
       "      <td>0.01953</td>\n",
       "      <td>1</td>\n",
       "      <td>10.67150</td>\n",
       "      <td>30.42020</td>\n",
       "      <td>15.35070</td>\n",
       "      <td>24.72400</td>\n",
       "      <td>16.14310</td>\n",
       "      <td>32.14280</td>\n",
       "      <td>25.43180</td>\n",
       "      <td>-0.08871</td>\n",
       "      <td>28.11990</td>\n",
       "      <td>26.89130</td>\n",
       "      <td>8.57886</td>\n",
       "      <td>23.16290</td>\n",
       "      <td>4.51993</td>\n",
       "      <td>12.70550</td>\n",
       "      <td>-12.01260</td>\n",
       "      <td>19.39630</td>\n",
       "      <td>23.17170</td>\n",
       "      <td>22.40760</td>\n",
       "      <td>1.53786</td>\n",
       "      <td>22.24700</td>\n",
       "      <td>-4,520.00000</td>\n",
       "      <td>817.70599</td>\n",
       "      <td>388.82999</td>\n",
       "      <td>A</td>\n",
       "    </tr>\n",
       "    <tr>\n",
       "      <th>3</th>\n",
       "      <td>1</td>\n",
       "      <td>CA</td>\n",
       "      <td>0.02344</td>\n",
       "      <td>1</td>\n",
       "      <td>11.45250</td>\n",
       "      <td>25.60980</td>\n",
       "      <td>2.43308</td>\n",
       "      <td>12.41250</td>\n",
       "      <td>20.53330</td>\n",
       "      <td>31.49410</td>\n",
       "      <td>19.14280</td>\n",
       "      <td>-0.25652</td>\n",
       "      <td>30.65360</td>\n",
       "      <td>24.24700</td>\n",
       "      <td>8.64310</td>\n",
       "      <td>19.96190</td>\n",
       "      <td>7.27575</td>\n",
       "      <td>11.45980</td>\n",
       "      <td>18.57410</td>\n",
       "      <td>23.15640</td>\n",
       "      <td>22.64120</td>\n",
       "      <td>19.33670</td>\n",
       "      <td>2.54492</td>\n",
       "      <td>18.99860</td>\n",
       "      <td>-4,520.00000</td>\n",
       "      <td>817.70599</td>\n",
       "      <td>388.82999</td>\n",
       "      <td>A</td>\n",
       "    </tr>\n",
       "    <tr>\n",
       "      <th>4</th>\n",
       "      <td>1</td>\n",
       "      <td>CA</td>\n",
       "      <td>0.02734</td>\n",
       "      <td>1</td>\n",
       "      <td>7.28321</td>\n",
       "      <td>25.94260</td>\n",
       "      <td>0.11356</td>\n",
       "      <td>5.74800</td>\n",
       "      <td>19.83360</td>\n",
       "      <td>28.75360</td>\n",
       "      <td>20.57210</td>\n",
       "      <td>-1.95347</td>\n",
       "      <td>31.72260</td>\n",
       "      <td>25.15550</td>\n",
       "      <td>12.50030</td>\n",
       "      <td>18.74690</td>\n",
       "      <td>7.30976</td>\n",
       "      <td>8.00805</td>\n",
       "      <td>6.55544</td>\n",
       "      <td>22.75470</td>\n",
       "      <td>22.67030</td>\n",
       "      <td>20.29320</td>\n",
       "      <td>1.69962</td>\n",
       "      <td>22.81280</td>\n",
       "      <td>-4,520.00000</td>\n",
       "      <td>817.70599</td>\n",
       "      <td>388.82999</td>\n",
       "      <td>A</td>\n",
       "    </tr>\n",
       "  </tbody>\n",
       "</table>\n",
       "</div>"
      ],
      "text/plain": [
       "   crew experiment    time  seat  ...          ecg         r       gsr  event\n",
       "0     1         CA 0.01172     1  ... -4,520.00000 817.70599 388.82999      A\n",
       "1     1         CA 0.01562     1  ... -4,520.00000 817.70599 388.82999      A\n",
       "2     1         CA 0.01953     1  ... -4,520.00000 817.70599 388.82999      A\n",
       "3     1         CA 0.02344     1  ... -4,520.00000 817.70599 388.82999      A\n",
       "4     1         CA 0.02734     1  ... -4,520.00000 817.70599 388.82999      A\n",
       "\n",
       "[5 rows x 28 columns]"
      ]
     },
     "execution_count": 13,
     "metadata": {
      "tags": []
     },
     "output_type": "execute_result"
    }
   ],
   "source": [
    "df.head()"
   ]
  },
  {
   "cell_type": "code",
   "execution_count": null,
   "metadata": {
    "colab": {
     "base_uri": "https://localhost:8080/",
     "height": 302
    },
    "id": "Jx6O2bQw-5Vt",
    "outputId": "030bf837-38b1-4bd4-e587-7055708bfea7"
   },
   "outputs": [
    {
     "data": {
      "text/html": [
       "<div>\n",
       "<style scoped>\n",
       "    .dataframe tbody tr th:only-of-type {\n",
       "        vertical-align: middle;\n",
       "    }\n",
       "\n",
       "    .dataframe tbody tr th {\n",
       "        vertical-align: top;\n",
       "    }\n",
       "\n",
       "    .dataframe thead th {\n",
       "        text-align: right;\n",
       "    }\n",
       "</style>\n",
       "<table border=\"1\" class=\"dataframe\">\n",
       "  <thead>\n",
       "    <tr style=\"text-align: right;\">\n",
       "      <th></th>\n",
       "      <th>crew</th>\n",
       "      <th>time</th>\n",
       "      <th>seat</th>\n",
       "      <th>eeg_fp1</th>\n",
       "      <th>eeg_f7</th>\n",
       "      <th>eeg_f8</th>\n",
       "      <th>eeg_t4</th>\n",
       "      <th>eeg_t6</th>\n",
       "      <th>eeg_t5</th>\n",
       "      <th>eeg_t3</th>\n",
       "      <th>eeg_fp2</th>\n",
       "      <th>eeg_o1</th>\n",
       "      <th>eeg_p3</th>\n",
       "      <th>eeg_pz</th>\n",
       "      <th>eeg_f3</th>\n",
       "      <th>eeg_fz</th>\n",
       "      <th>eeg_f4</th>\n",
       "      <th>eeg_c4</th>\n",
       "      <th>eeg_p4</th>\n",
       "      <th>eeg_poz</th>\n",
       "      <th>eeg_c3</th>\n",
       "      <th>eeg_cz</th>\n",
       "      <th>eeg_o2</th>\n",
       "      <th>ecg</th>\n",
       "      <th>r</th>\n",
       "      <th>gsr</th>\n",
       "    </tr>\n",
       "  </thead>\n",
       "  <tbody>\n",
       "    <tr>\n",
       "      <th>count</th>\n",
       "      <td>4,867,421.00000</td>\n",
       "      <td>4,867,421.00000</td>\n",
       "      <td>4,867,421.00000</td>\n",
       "      <td>4,867,421.00000</td>\n",
       "      <td>4,867,421.00000</td>\n",
       "      <td>4,867,421.00000</td>\n",
       "      <td>4,867,421.00000</td>\n",
       "      <td>4,867,421.00000</td>\n",
       "      <td>4,867,421.00000</td>\n",
       "      <td>4,867,421.00000</td>\n",
       "      <td>4,867,421.00000</td>\n",
       "      <td>4,867,421.00000</td>\n",
       "      <td>4,867,421.00000</td>\n",
       "      <td>4,867,421.00000</td>\n",
       "      <td>4,867,421.00000</td>\n",
       "      <td>4,867,421.00000</td>\n",
       "      <td>4,867,421.00000</td>\n",
       "      <td>4,867,421.00000</td>\n",
       "      <td>4,867,421.00000</td>\n",
       "      <td>4,867,421.00000</td>\n",
       "      <td>4,867,421.00000</td>\n",
       "      <td>4,867,421.00000</td>\n",
       "      <td>4,867,421.00000</td>\n",
       "      <td>4,867,421.00000</td>\n",
       "      <td>4,867,421.00000</td>\n",
       "      <td>4,867,421.00000</td>\n",
       "    </tr>\n",
       "    <tr>\n",
       "      <th>mean</th>\n",
       "      <td>5.53878</td>\n",
       "      <td>177.85599</td>\n",
       "      <td>0.49995</td>\n",
       "      <td>3.74653</td>\n",
       "      <td>1.35996</td>\n",
       "      <td>1.21364</td>\n",
       "      <td>0.07351</td>\n",
       "      <td>0.07846</td>\n",
       "      <td>0.08675</td>\n",
       "      <td>0.22998</td>\n",
       "      <td>3.62736</td>\n",
       "      <td>0.18364</td>\n",
       "      <td>0.26505</td>\n",
       "      <td>0.44074</td>\n",
       "      <td>1.38539</td>\n",
       "      <td>1.31619</td>\n",
       "      <td>1.20853</td>\n",
       "      <td>0.60498</td>\n",
       "      <td>0.24138</td>\n",
       "      <td>0.19476</td>\n",
       "      <td>0.62434</td>\n",
       "      <td>0.44291</td>\n",
       "      <td>0.23937</td>\n",
       "      <td>5,308.64209</td>\n",
       "      <td>738.42737</td>\n",
       "      <td>851.99896</td>\n",
       "    </tr>\n",
       "    <tr>\n",
       "      <th>std</th>\n",
       "      <td>3.40935</td>\n",
       "      <td>103.76466</td>\n",
       "      <td>0.50000</td>\n",
       "      <td>44.85974</td>\n",
       "      <td>34.99023</td>\n",
       "      <td>35.06101</td>\n",
       "      <td>24.22352</td>\n",
       "      <td>17.91621</td>\n",
       "      <td>18.22733</td>\n",
       "      <td>25.19746</td>\n",
       "      <td>45.92398</td>\n",
       "      <td>27.94756</td>\n",
       "      <td>16.49277</td>\n",
       "      <td>63.78222</td>\n",
       "      <td>42.72685</td>\n",
       "      <td>54.76573</td>\n",
       "      <td>41.86945</td>\n",
       "      <td>20.42082</td>\n",
       "      <td>16.51435</td>\n",
       "      <td>18.21770</td>\n",
       "      <td>19.65821</td>\n",
       "      <td>19.64158</td>\n",
       "      <td>23.35904</td>\n",
       "      <td>12,143.21387</td>\n",
       "      <td>82.29544</td>\n",
       "      <td>502.04810</td>\n",
       "    </tr>\n",
       "    <tr>\n",
       "      <th>min</th>\n",
       "      <td>1.00000</td>\n",
       "      <td>0.00300</td>\n",
       "      <td>0.00000</td>\n",
       "      <td>-1,361.35999</td>\n",
       "      <td>-1,581.32996</td>\n",
       "      <td>-1,643.94995</td>\n",
       "      <td>-1,516.64001</td>\n",
       "      <td>-1,220.51001</td>\n",
       "      <td>-1,266.43005</td>\n",
       "      <td>-1,279.93994</td>\n",
       "      <td>-1,393.47998</td>\n",
       "      <td>-2,887.90991</td>\n",
       "      <td>-1,226.78003</td>\n",
       "      <td>-2,875.93994</td>\n",
       "      <td>-1,353.41003</td>\n",
       "      <td>-4,064.07007</td>\n",
       "      <td>-2,333.83008</td>\n",
       "      <td>-1,212.03003</td>\n",
       "      <td>-1,228.03003</td>\n",
       "      <td>-1,229.13000</td>\n",
       "      <td>-1,230.47998</td>\n",
       "      <td>-696.27899</td>\n",
       "      <td>-1,176.37000</td>\n",
       "      <td>-18,585.69922</td>\n",
       "      <td>482.06000</td>\n",
       "      <td>0.00000</td>\n",
       "    </tr>\n",
       "    <tr>\n",
       "      <th>25%</th>\n",
       "      <td>3.00000</td>\n",
       "      <td>88.08100</td>\n",
       "      <td>0.00000</td>\n",
       "      <td>-9.20025</td>\n",
       "      <td>-8.32515</td>\n",
       "      <td>-8.76761</td>\n",
       "      <td>-7.36724</td>\n",
       "      <td>-6.10200</td>\n",
       "      <td>-6.00726</td>\n",
       "      <td>-6.90403</td>\n",
       "      <td>-9.57500</td>\n",
       "      <td>-6.65734</td>\n",
       "      <td>-6.58046</td>\n",
       "      <td>-7.64364</td>\n",
       "      <td>-9.28555</td>\n",
       "      <td>-8.05544</td>\n",
       "      <td>-9.30643</td>\n",
       "      <td>-7.49597</td>\n",
       "      <td>-6.71386</td>\n",
       "      <td>-6.77484</td>\n",
       "      <td>-7.16116</td>\n",
       "      <td>-7.81765</td>\n",
       "      <td>-6.52695</td>\n",
       "      <td>-2,550.07007</td>\n",
       "      <td>663.14301</td>\n",
       "      <td>524.11401</td>\n",
       "    </tr>\n",
       "    <tr>\n",
       "      <th>50%</th>\n",
       "      <td>5.00000</td>\n",
       "      <td>176.92969</td>\n",
       "      <td>0.00000</td>\n",
       "      <td>0.38190</td>\n",
       "      <td>0.04264</td>\n",
       "      <td>0.11404</td>\n",
       "      <td>0.00000</td>\n",
       "      <td>0.00000</td>\n",
       "      <td>0.00000</td>\n",
       "      <td>0.00000</td>\n",
       "      <td>0.38934</td>\n",
       "      <td>0.00000</td>\n",
       "      <td>0.00000</td>\n",
       "      <td>0.00000</td>\n",
       "      <td>0.11708</td>\n",
       "      <td>0.11067</td>\n",
       "      <td>0.05667</td>\n",
       "      <td>0.00000</td>\n",
       "      <td>0.00000</td>\n",
       "      <td>0.00000</td>\n",
       "      <td>0.00000</td>\n",
       "      <td>0.00000</td>\n",
       "      <td>0.00000</td>\n",
       "      <td>5,920.50977</td>\n",
       "      <td>743.43799</td>\n",
       "      <td>770.19702</td>\n",
       "    </tr>\n",
       "    <tr>\n",
       "      <th>75%</th>\n",
       "      <td>7.00000</td>\n",
       "      <td>268.33984</td>\n",
       "      <td>1.00000</td>\n",
       "      <td>10.30610</td>\n",
       "      <td>8.75334</td>\n",
       "      <td>9.28256</td>\n",
       "      <td>7.43778</td>\n",
       "      <td>6.17663</td>\n",
       "      <td>6.08646</td>\n",
       "      <td>7.07146</td>\n",
       "      <td>10.62990</td>\n",
       "      <td>6.78108</td>\n",
       "      <td>6.74435</td>\n",
       "      <td>7.81001</td>\n",
       "      <td>9.95549</td>\n",
       "      <td>8.63161</td>\n",
       "      <td>9.77577</td>\n",
       "      <td>7.76567</td>\n",
       "      <td>6.83132</td>\n",
       "      <td>6.90502</td>\n",
       "      <td>7.46652</td>\n",
       "      <td>8.02519</td>\n",
       "      <td>6.61518</td>\n",
       "      <td>10,290.09961</td>\n",
       "      <td>813.41199</td>\n",
       "      <td>1,197.12000</td>\n",
       "    </tr>\n",
       "    <tr>\n",
       "      <th>max</th>\n",
       "      <td>13.00000</td>\n",
       "      <td>360.37109</td>\n",
       "      <td>1.00000</td>\n",
       "      <td>1,972.23999</td>\n",
       "      <td>2,048.79004</td>\n",
       "      <td>2,145.70996</td>\n",
       "      <td>1,731.88000</td>\n",
       "      <td>900.93701</td>\n",
       "      <td>1,176.54004</td>\n",
       "      <td>1,514.81995</td>\n",
       "      <td>2,103.30005</td>\n",
       "      <td>1,879.32996</td>\n",
       "      <td>931.62701</td>\n",
       "      <td>2,162.22998</td>\n",
       "      <td>1,381.37000</td>\n",
       "      <td>3,893.33008</td>\n",
       "      <td>2,034.17004</td>\n",
       "      <td>891.72900</td>\n",
       "      <td>908.08899</td>\n",
       "      <td>1,435.80005</td>\n",
       "      <td>928.40698</td>\n",
       "      <td>613.66901</td>\n",
       "      <td>2,443.55005</td>\n",
       "      <td>34,188.30078</td>\n",
       "      <td>840.18402</td>\n",
       "      <td>1,999.85999</td>\n",
       "    </tr>\n",
       "  </tbody>\n",
       "</table>\n",
       "</div>"
      ],
      "text/plain": [
       "                 crew            time  ...               r             gsr\n",
       "count 4,867,421.00000 4,867,421.00000  ... 4,867,421.00000 4,867,421.00000\n",
       "mean          5.53878       177.85599  ...       738.42737       851.99896\n",
       "std           3.40935       103.76466  ...        82.29544       502.04810\n",
       "min           1.00000         0.00300  ...       482.06000         0.00000\n",
       "25%           3.00000        88.08100  ...       663.14301       524.11401\n",
       "50%           5.00000       176.92969  ...       743.43799       770.19702\n",
       "75%           7.00000       268.33984  ...       813.41199     1,197.12000\n",
       "max          13.00000       360.37109  ...       840.18402     1,999.85999\n",
       "\n",
       "[8 rows x 26 columns]"
      ]
     },
     "execution_count": 11,
     "metadata": {
      "tags": []
     },
     "output_type": "execute_result"
    }
   ],
   "source": [
    "#Getting information regarding the various statistics of all the continuous column variables\n",
    "df.describe()"
   ]
  },
  {
   "cell_type": "code",
   "execution_count": null,
   "metadata": {
    "colab": {
     "base_uri": "https://localhost:8080/"
    },
    "id": "n9h2Ms6J-5Vu",
    "outputId": "0985f877-3cb4-40b8-922b-2f7726705f9e"
   },
   "outputs": [
    {
     "data": {
      "text/plain": [
       "crew          0\n",
       "experiment    0\n",
       "time          0\n",
       "seat          0\n",
       "eeg_fp1       0\n",
       "eeg_f7        0\n",
       "eeg_f8        0\n",
       "eeg_t4        0\n",
       "eeg_t6        0\n",
       "eeg_t5        0\n",
       "eeg_t3        0\n",
       "eeg_fp2       0\n",
       "eeg_o1        0\n",
       "eeg_p3        0\n",
       "eeg_pz        0\n",
       "eeg_f3        0\n",
       "eeg_fz        0\n",
       "eeg_f4        0\n",
       "eeg_c4        0\n",
       "eeg_p4        0\n",
       "eeg_poz       0\n",
       "eeg_c3        0\n",
       "eeg_cz        0\n",
       "eeg_o2        0\n",
       "ecg           0\n",
       "r             0\n",
       "gsr           0\n",
       "event         0\n",
       "dtype: int64"
      ]
     },
     "execution_count": 31,
     "metadata": {
      "tags": []
     },
     "output_type": "execute_result"
    }
   ],
   "source": [
    "#Finding the no of Null Values\n",
    "df.isnull().sum()"
   ]
  },
  {
   "cell_type": "markdown",
   "metadata": {
    "id": "AMkSg11N-5Vu"
   },
   "source": [
    "As we can see from the code above there are no missing values present in the dataset"
   ]
  },
  {
   "cell_type": "code",
   "execution_count": null,
   "metadata": {
    "colab": {
     "base_uri": "https://localhost:8080/"
    },
    "id": "dAxQR5k5-5Vu",
    "outputId": "8ecb5a63-693d-4dd6-b331-e03be85f9b37"
   },
   "outputs": [
    {
     "name": "stdout",
     "output_type": "stream",
     "text": [
      "The unique events present for experiment DA are\n",
      "['A' 'D'] \n",
      "\n",
      "The unique events present for experiment SS are\n",
      "['A' 'B'] \n",
      "\n",
      "The unique events present for experiment CA are\n",
      "['A' 'C'] \n",
      "\n"
     ]
    }
   ],
   "source": [
    "experiment_values=df.experiment.values\n",
    "unique_experiments = set(experiment_values)\n",
    "\n",
    "for exp in unique_experiments:\n",
    "    print('The unique events present for experiment {} are'.format(exp))\n",
    "    print(df.loc[df.experiment==exp].event.unique(),'\\n')"
   ]
  },
  {
   "cell_type": "markdown",
   "metadata": {
    "id": "2PRkmONn-5Vv"
   },
   "source": [
    "# **Performing univariate analysis for each continuous variable in the dataset**"
   ]
  },
  {
   "cell_type": "code",
   "execution_count": null,
   "metadata": {
    "id": "tEvYA6xx-5Vv"
   },
   "outputs": [],
   "source": [
    "#Defining the categorical and numerical columns for our dataset\n",
    "threshold=10\n",
    "\n",
    "categorical_cols = [col for col in df.columns if (df[col].nunique()<threshold)]\n",
    "numerical_cols = [col for col in df.columns if (df[col].nunique()>threshold)]\n",
    "eeg_cols = [col for col in numerical_cols if col.startswith('eeg')]"
   ]
  },
  {
   "cell_type": "code",
   "execution_count": null,
   "metadata": {
    "colab": {
     "base_uri": "https://localhost:8080/",
     "height": 678
    },
    "id": "Mj_QxyCx-5Vw",
    "outputId": "349a0c65-a2aa-4de2-b6e3-5814e306f53a"
   },
   "outputs": [
    {
     "data": {
      "image/png": "[encoded data removed]",
      "text/plain": [
       "<Figure size 1440x720 with 20 Axes>"
      ]
     },
     "metadata": {
      "tags": []
     },
     "output_type": "display_data"
    }
   ],
   "source": [
    "#Plotting the boxplot of eeg sensor related columns\n",
    "figure,axs = plt.subplots(4,5, figsize=(20, 10), facecolor='w', edgecolor='k')\n",
    "figure.suptitle('Boxplot of readings recieved from various sensors')\n",
    "\n",
    "axs = axs.flatten()\n",
    "\n",
    "for ax,col in zip(axs.flatten(),eeg_cols):\n",
    "    sns.boxplot(df[col],ax=ax)\n",
    "    ax.legend([col])\n",
    "    ax.set_yticklabels([])"
   ]
  },
  {
   "cell_type": "markdown",
   "metadata": {
    "id": "9PD3bUIY-5Vw"
   },
   "source": [
    "From the code above we can see that all the 'eeg' sensor related variables have considerable amount of \n",
    "outliers present.\n",
    "We need to preprocess these variables in order to use them for further analysis"
   ]
  },
  {
   "cell_type": "code",
   "execution_count": null,
   "metadata": {
    "colab": {
     "base_uri": "https://localhost:8080/",
     "height": 678
    },
    "id": "LVCX2SLkWgxj",
    "outputId": "aa8f552a-692e-4a05-bd23-f1e66cfc0c54"
   },
   "outputs": [
    {
     "data": {
      "image/png": "[encoded data removed]",
      "text/plain": [
       "<Figure size 1440x720 with 20 Axes>"
      ]
     },
     "metadata": {
      "tags": []
     },
     "output_type": "display_data"
    }
   ],
   "source": [
    "#Plotting the histogram of eeg sensor related columns\n",
    "figure,axs = plt.subplots(4,5, figsize=(20, 10), facecolor='w', edgecolor='k')\n",
    "figure.suptitle('Histogram of readings recieved from various sensors')\n",
    "\n",
    "axs = axs.flatten()\n",
    "\n",
    "for ax,col in zip(axs.flatten(),eeg_cols):\n",
    "    sns.histplot(df[col],ax=ax,stat='probability')\n",
    "    ax.legend([col])\n",
    "    ax.set_yticklabels([])"
   ]
  },
  {
   "cell_type": "code",
   "execution_count": null,
   "metadata": {
    "id": "FmbdRZY6-5Vx"
   },
   "outputs": [],
   "source": [
    "non_eeg_cols = [col for col in numerical_cols if col not in eeg_cols]"
   ]
  },
  {
   "cell_type": "markdown",
   "metadata": {
    "id": "dKcNpjJq-5Vx"
   },
   "source": [
    "**Determing the distribution of other numerical variables through boxplots and lineplots**"
   ]
  },
  {
   "cell_type": "code",
   "execution_count": null,
   "metadata": {
    "colab": {
     "base_uri": "https://localhost:8080/",
     "height": 677
    },
    "id": "I7xTpeYT-5Vx",
    "outputId": "b4de0e02-114c-4702-83c0-7f313cfedab5"
   },
   "outputs": [
    {
     "data": {
      "image/png": "[encoded data removed]",
      "text/plain": [
       "<Figure size 1440x720 with 4 Axes>"
      ]
     },
     "metadata": {
      "tags": []
     },
     "output_type": "display_data"
    }
   ],
   "source": [
    "figure,axs = plt.subplots(2,2, figsize=(20, 10), facecolor='w', edgecolor='k')\n",
    "figure.suptitle('Boxplot of readings recieved from various sensors')\n",
    "axs = axs.flatten()\n",
    "\n",
    "for ax,col in zip(axs,non_eeg_cols):\n",
    "    sns.boxplot(df[col],ax=ax)\n",
    "    ax.legend([col])"
   ]
  },
  {
   "cell_type": "markdown",
   "metadata": {
    "id": "ZnDKwlri-5Vy"
   },
   "source": [
    "As we can see from the code above that the 'ecg'variable contains decent no. of outliers from it's boxplot"
   ]
  },
  {
   "cell_type": "code",
   "execution_count": null,
   "metadata": {
    "colab": {
     "base_uri": "https://localhost:8080/",
     "height": 677
    },
    "id": "kLib-6Jt-5Vy",
    "outputId": "86943d9d-0e33-431b-c082-3488a7161f06"
   },
   "outputs": [
    {
     "data": {
      "image/png": "[encoded data removed]",
      "text/plain": [
       "<Figure size 1440x720 with 4 Axes>"
      ]
     },
     "metadata": {
      "tags": []
     },
     "output_type": "display_data"
    }
   ],
   "source": [
    "figure,axs = plt.subplots(2,2, figsize=(20, 10), facecolor='w', edgecolor='k')\n",
    "figure.suptitle('Histogram plot of readings from other variables')\n",
    "axs = axs.flatten()\n",
    "\n",
    "for ax,col in zip(axs,non_eeg_cols):\n",
    "    sns.histplot(df[col],ax=ax,stat='probability')\n",
    "    ax.legend([col])"
   ]
  },
  {
   "cell_type": "markdown",
   "metadata": {
    "id": "i45n22y7-5Vy"
   },
   "source": [
    "# **Performing univariate analysis for each categorical variable in the dataset**"
   ]
  },
  {
   "cell_type": "code",
   "execution_count": null,
   "metadata": {
    "colab": {
     "base_uri": "https://localhost:8080/",
     "height": 661
    },
    "id": "yC4eldZh-5Vz",
    "outputId": "9af6fe8f-ba17-4410-90bc-94a0ac47b10a"
   },
   "outputs": [
    {
     "data": {
      "image/png": "[encoded data removed]",
      "text/plain": [
       "<Figure size 1440x720 with 4 Axes>"
      ]
     },
     "metadata": {
      "tags": []
     },
     "output_type": "display_data"
    }
   ],
   "source": [
    "figure,axs = plt.subplots(2,2, figsize=(20, 10), facecolor='w', edgecolor='k')\n",
    "figure.suptitle('Barplot plot of readings from other variables')\n",
    "axs = axs.flatten()\n",
    "\n",
    "for ax,col in zip(axs,categorical_cols):\n",
    "    (df[col].value_counts()/len(df)).plot(kind='bar',ax=ax)\n",
    "    ax.legend([col])"
   ]
  },
  {
   "cell_type": "markdown",
   "metadata": {
    "id": "-HyD97wC-5Vz"
   },
   "source": [
    "# Removing outliers from continuous variables of the dataframe"
   ]
  },
  {
   "cell_type": "code",
   "execution_count": null,
   "metadata": {
    "id": "iDlhFO9p-5Vz"
   },
   "outputs": [],
   "source": [
    "#Function to remove outliers\n",
    "def remove_outlier(df,col):\n",
    "    q1=np.percentile(df[col],25)\n",
    "    q3=np.percentile(df[col],75)\n",
    "\n",
    "    iqr = q3 - q1\n",
    "    upper_bound = q3 + (1.5 * iqr) \n",
    "    lower_bound = q1 - (1.5 * iqr)\n",
    "\n",
    "    upper_value = np.percentile(df[col],90)\n",
    "    lower_value = np.percentile(df[col],10)\n",
    "\n",
    "    df.loc[df[col] >= upper_bound, col] = upper_value \n",
    "    df.loc[df[col] <= lower_bound, col] = lower_value\n",
    "    return df"
   ]
  },
  {
   "cell_type": "code",
   "execution_count": null,
   "metadata": {
    "id": "C021jcaS-5V0"
   },
   "outputs": [],
   "source": [
    "#df_new=df.copy()\n",
    "for col in numerical_cols:\n",
    "    df=remove_outlier(df,col)"
   ]
  },
  {
   "cell_type": "code",
   "execution_count": null,
   "metadata": {
    "colab": {
     "base_uri": "https://localhost:8080/",
     "height": 678
    },
    "id": "axjSp4uR-5V0",
    "outputId": "c0af6e06-97c8-41e6-9827-5f2e2eb34bba"
   },
   "outputs": [
    {
     "data": {
      "image/png": "[encoded data removed]",
      "text/plain": [
       "<Figure size 1440x720 with 20 Axes>"
      ]
     },
     "metadata": {
      "tags": []
     },
     "output_type": "display_data"
    }
   ],
   "source": [
    "#Plotting the boxplot of eeg sensor related columns\n",
    "figure,axs = plt.subplots(4,5, figsize=(20, 10), facecolor='w', edgecolor='k')\n",
    "figure.suptitle('Boxplot of readings recieved from various sensors')\n",
    "\n",
    "axs = axs.flatten()\n",
    "\n",
    "for ax,col in zip(axs.flatten(),eeg_cols):\n",
    "    sns.boxplot(df[col],ax=ax)\n",
    "    ax.legend([col])\n",
    "    ax.set_yticklabels([])"
   ]
  },
  {
   "cell_type": "code",
   "execution_count": null,
   "metadata": {
    "colab": {
     "base_uri": "https://localhost:8080/",
     "height": 678
    },
    "id": "DAmzWY3y-5V1",
    "outputId": "8b1cf28f-f645-4917-e106-fa780f2c7ee5"
   },
   "outputs": [
    {
     "data": {
      "image/png": "[encoded data removed]",
      "text/plain": [
       "<Figure size 720x720 with 4 Axes>"
      ]
     },
     "metadata": {
      "tags": []
     },
     "output_type": "display_data"
    }
   ],
   "source": [
    "#Plotting the boxplot of eeg sensor related columns\n",
    "figure,axs = plt.subplots(4,1, figsize=(10, 10), facecolor='w', edgecolor='k')\n",
    "figure.suptitle('Boxplot of readings recieved from various sensors')\n",
    "\n",
    "axs = axs.flatten()\n",
    "\n",
    "for ax,col in zip(axs.flatten(),non_eeg_cols):\n",
    "    sns.boxplot(df[col],ax=ax)\n",
    "    ax.legend([col])\n",
    "    ax.set_yticklabels([])"
   ]
  },
  {
   "cell_type": "markdown",
   "metadata": {
    "id": "DBKFLB0p-5V1"
   },
   "source": [
    "From the code above we can see that the outliers have been successfully reoved from the dataset"
   ]
  },
  {
   "cell_type": "code",
   "execution_count": null,
   "metadata": {
    "id": "xcJWENC0-5V1"
   },
   "outputs": [],
   "source": [
    "categorical_cols.remove('event')"
   ]
  },
  {
   "cell_type": "code",
   "execution_count": null,
   "metadata": {
    "colab": {
     "base_uri": "https://localhost:8080/"
    },
    "id": "7lFcPDPL-5V2",
    "outputId": "ba326ffb-6023-4f8b-858c-b5e83054b33d"
   },
   "outputs": [
    {
     "data": {
      "text/plain": [
       "['crew', 'experiment', 'seat']"
      ]
     },
     "execution_count": 56,
     "metadata": {
      "tags": []
     },
     "output_type": "execute_result"
    }
   ],
   "source": [
    "categorical_cols"
   ]
  },
  {
   "cell_type": "markdown",
   "metadata": {
    "id": "ETQifY0d-5V2"
   },
   "source": [
    "# Performing bivariate analysis of the dataset"
   ]
  },
  {
   "cell_type": "markdown",
   "metadata": {
    "id": "dUmHg-h4-5V3"
   },
   "source": [
    "Analysis for the crew variable"
   ]
  },
  {
   "cell_type": "code",
   "execution_count": null,
   "metadata": {
    "id": "GFAWAmpR-5V3"
   },
   "outputs": [],
   "source": [
    "for col in categorical_cols:\n",
    "    df[col]=df[col].astype('category')"
   ]
  },
  {
   "cell_type": "code",
   "execution_count": null,
   "metadata": {
    "colab": {
     "base_uri": "https://localhost:8080/"
    },
    "id": "qJABs4OnKgr_",
    "outputId": "a7bc9370-8c1a-4b52-f3c6-77d1d31a9679"
   },
   "outputs": [
    {
     "name": "stdout",
     "output_type": "stream",
     "text": [
      "<class 'pandas.core.frame.DataFrame'>\n",
      "RangeIndex: 4867421 entries, 0 to 4867420\n",
      "Data columns (total 28 columns):\n",
      " #   Column      Dtype   \n",
      "---  ------      -----   \n",
      " 0   crew        category\n",
      " 1   experiment  category\n",
      " 2   time        float32 \n",
      " 3   seat        category\n",
      " 4   eeg_fp1     float32 \n",
      " 5   eeg_f7      float32 \n",
      " 6   eeg_f8      float32 \n",
      " 7   eeg_t4      float32 \n",
      " 8   eeg_t6      float32 \n",
      " 9   eeg_t5      float32 \n",
      " 10  eeg_t3      float32 \n",
      " 11  eeg_fp2     float32 \n",
      " 12  eeg_o1      float32 \n",
      " 13  eeg_p3      float32 \n",
      " 14  eeg_pz      float32 \n",
      " 15  eeg_f3      float32 \n",
      " 16  eeg_fz      float32 \n",
      " 17  eeg_f4      float32 \n",
      " 18  eeg_c4      float32 \n",
      " 19  eeg_p4      float32 \n",
      " 20  eeg_poz     float32 \n",
      " 21  eeg_c3      float32 \n",
      " 22  eeg_cz      float32 \n",
      " 23  eeg_o2      float32 \n",
      " 24  ecg         float32 \n",
      " 25  r           float32 \n",
      " 26  gsr         float32 \n",
      " 27  event       object  \n",
      "dtypes: category(3), float32(24), object(1)\n",
      "memory usage: 496.7+ MB\n"
     ]
    }
   ],
   "source": [
    "df.info()"
   ]
  },
  {
   "cell_type": "markdown",
   "metadata": {
    "id": "sY6C-WOK-5V5"
   },
   "source": [
    "Analysing the experiment variable"
   ]
  },
  {
   "cell_type": "code",
   "execution_count": null,
   "metadata": {
    "id": "TgsMJAia-5V5"
   },
   "outputs": [],
   "source": [
    "df['crew']=df['crew'].apply(lambda x:str(x))"
   ]
  },
  {
   "cell_type": "markdown",
   "metadata": {
    "id": "xW8vDpoI-5V6"
   },
   "source": [
    "From the figure above we can see the crosstab relationship between events and crew:\n",
    "Event 'A','B','C','D' seems to be uniformly distributed between all the crew types except for crew '1'."
   ]
  },
  {
   "cell_type": "markdown",
   "metadata": {
    "id": "7jmNdB1g-5V6"
   },
   "source": [
    "Analysing the seat variable"
   ]
  },
  {
   "cell_type": "code",
   "execution_count": null,
   "metadata": {
    "id": "wemOl9mz-5V6"
   },
   "outputs": [],
   "source": [
    "def chisq_test(col1,col2):\n",
    "        \n",
    "    table = pd.crosstab(df[col1],df[col2])\n",
    "    print(\"Contingency table is created for columns '{}' and '{}': \\n\".format(col1,col2))\n",
    "    print(table,\"\\n\")\n",
    "    \n",
    "    # Get column percentages\n",
    "    col_sum = table.sum(axis=0)\n",
    "    col_percents = table/col_sum\n",
    "\n",
    "    stat, p, dof, expected = scipy.stats.chi2_contingency(table)\n",
    "    print(\"Chi-square value, p-value, expected_counts\")\n",
    "    #print(stat,p,dof, \"\\n\",expected)\n",
    "    \n",
    "    alpha=0.05\n",
    "    print(\"p value is \" + str(p))\n",
    "    if p <= alpha:\n",
    "        print('Dependent (reject H0) \\n')\n",
    "    else:\n",
    "        print('Independent (H0 holds true) \\n')"
   ]
  },
  {
   "cell_type": "code",
   "execution_count": null,
   "metadata": {
    "id": "vUx7LA-U-5V7"
   },
   "outputs": [],
   "source": [
    "categorical_combinations=list(itertools.combinations(categorical_cols, 2))"
   ]
  },
  {
   "cell_type": "code",
   "execution_count": null,
   "metadata": {
    "colab": {
     "base_uri": "https://localhost:8080/"
    },
    "id": "vUbmkjf0-5V7",
    "outputId": "024b288d-5a4e-499a-b21e-923f275a661e"
   },
   "outputs": [
    {
     "name": "stdout",
     "output_type": "stream",
     "text": [
      "Contingency table is created for columns 'crew' and 'experiment': \n",
      "\n",
      "experiment      CA      DA      SS\n",
      "crew                              \n",
      "1           184299  184207   79146\n",
      "13          184288  184207  184229\n",
      "2           184232  184293  184343\n",
      "3           184232  184274  184289\n",
      "4           184337  184301  184243\n",
      "5           184252  184292  184271\n",
      "6           184254  184389  184315\n",
      "7           184238  184235  184296\n",
      "8           184244  184195  181520 \n",
      "\n",
      "Chi-square value, p-value, expected_counts\n",
      "p value is 0.0\n",
      "Dependent (reject H0) \n",
      "\n",
      "Contingency table is created for columns 'crew' and 'seat': \n",
      "\n",
      "seat       0       1\n",
      "crew                \n",
      "1     223771  223881\n",
      "13    276376  276348\n",
      "2     276458  276410\n",
      "3     276402  276393\n",
      "4     276523  276358\n",
      "5     276433  276382\n",
      "6     276571  276387\n",
      "7     276427  276342\n",
      "8     274978  274981 \n",
      "\n",
      "Chi-square value, p-value, expected_counts\n",
      "p value is 0.9999995164938702\n",
      "Independent (H0 holds true) \n",
      "\n",
      "Contingency table is created for columns 'experiment' and 'seat': \n",
      "\n",
      "seat             0       1\n",
      "experiment                \n",
      "CA          829297  829079\n",
      "DA          829304  829089\n",
      "SS          775338  775314 \n",
      "\n",
      "Chi-square value, p-value, expected_counts\n",
      "p value is 0.9930272981429119\n",
      "Independent (H0 holds true) \n",
      "\n"
     ]
    }
   ],
   "source": [
    "for i,j in categorical_combinations:\n",
    "    chisq_test(i,j)"
   ]
  },
  {
   "cell_type": "markdown",
   "metadata": {
    "id": "RMhsTrE8-5V8"
   },
   "source": [
    "Performing the chi-square test between the independent variables and dependent variable"
   ]
  },
  {
   "cell_type": "code",
   "execution_count": null,
   "metadata": {
    "colab": {
     "base_uri": "https://localhost:8080/"
    },
    "id": "5Vsp9MJr-5V8",
    "outputId": "a9a8df1f-8c2b-43a5-c5df-fdb67882938a"
   },
   "outputs": [
    {
     "name": "stdout",
     "output_type": "stream",
     "text": [
      "Contingency table is created for columns 'crew' and 'event': \n",
      "\n",
      "event       A      B       C      D\n",
      "crew                               \n",
      "1      235891   7689  180853  23219\n",
      "13     324700  15376  183972  28676\n",
      "2      326570  15371  183888  27039\n",
      "3      327147  15337  184062  26249\n",
      "4      328532  15364  184088  24897\n",
      "5      326326  15368  183934  27187\n",
      "6      327851  15348  183888  25871\n",
      "7      327917  15388  183946  25518\n",
      "8      323875  15356  184055  26673 \n",
      "\n",
      "Chi-square value, p-value, expected_counts\n",
      "p value is 0.0\n",
      "Dependent (reject H0) \n",
      "\n",
      "Contingency table is created for columns 'experiment' and 'event': \n",
      "\n",
      "event             A       B        C       D\n",
      "experiment                                  \n",
      "CA             5690       0  1652686       0\n",
      "DA          1423064       0        0  235329\n",
      "SS          1420055  130597        0       0 \n",
      "\n",
      "Chi-square value, p-value, expected_counts\n",
      "p value is 0.0\n",
      "Dependent (reject H0) \n",
      "\n",
      "Contingency table is created for columns 'seat' and 'event': \n",
      "\n",
      "event        A      B       C       D\n",
      "seat                                 \n",
      "0      1424524  65293  826401  117721\n",
      "1      1424285  65304  826285  117608 \n",
      "\n",
      "Chi-square value, p-value, expected_counts\n",
      "p value is 0.9978606457877767\n",
      "Independent (H0 holds true) \n",
      "\n"
     ]
    }
   ],
   "source": [
    "for i in categorical_cols:\n",
    "    chisq_test(i,'event')"
   ]
  },
  {
   "cell_type": "markdown",
   "metadata": {
    "id": "HwTuj_nZ-5V8"
   },
   "source": [
    "From the above tests we can infer that we based on the statistical tests we see that the variables 'crew' and 'experiment'\n",
    "have very high correlation with the target variable.However,based on the chi-square tests between independent variables\n",
    "we see that these two variables are highly associated with each other.Selecting these two variables at the same time\n",
    "will lead to multicollinearity.\n",
    "\n",
    "Hence,we need to select only one out of the given two variables.Out of these variables,experiment variable\n",
    "has the given set of categorical  values present only for the train set.For the test set all values are marked \n",
    "as category 'LOFT'.Hence, it would be suitable to reove this variable and selecting only the 'crew' variable for \n",
    "model-building purposes"
   ]
  },
  {
   "cell_type": "markdown",
   "metadata": {
    "id": "9Id-NiDD-5V8"
   },
   "source": [
    "# Performing bivariate analysis between the numerical variables and the target variable"
   ]
  },
  {
   "cell_type": "code",
   "execution_count": null,
   "metadata": {
    "colab": {
     "base_uri": "https://localhost:8080/",
     "height": 1000
    },
    "id": "CJvyIkCr-5V9",
    "outputId": "7e734ccd-5ec1-4ff3-fffa-e2c642e4feb9"
   },
   "outputs": [
    {
     "data": {
      "image/png": "[encoded data removed]",
      "text/plain": [
       "<Figure size 2160x2160 with 20 Axes>"
      ]
     },
     "metadata": {
      "tags": []
     },
     "output_type": "display_data"
    }
   ],
   "source": [
    "#Plotting the boxplot of eeg sensor related columns\n",
    "figure,axs = plt.subplots(4,5, figsize=(30, 30), facecolor='w', edgecolor='k')\n",
    "figure.suptitle('Boxplot of readings recieved from various sensors')\n",
    "\n",
    "axs = axs.flatten()\n",
    "\n",
    "for ax,col in zip(axs.flatten(),eeg_cols):\n",
    "    sns.boxplot(x=df['event'],y=df[col],ax=ax)\n",
    "    #ax.legend([col])\n",
    "    ax.set_yticklabels([])"
   ]
  },
  {
   "cell_type": "code",
   "execution_count": null,
   "metadata": {
    "colab": {
     "base_uri": "https://localhost:8080/",
     "height": 297
    },
    "id": "GiiZEVNy-5V9",
    "outputId": "88943a36-44c3-43ad-da2f-d8d1330460eb"
   },
   "outputs": [
    {
     "data": {
      "text/plain": [
       "<matplotlib.axes._subplots.AxesSubplot at 0x7f437b9465d0>"
      ]
     },
     "execution_count": 65,
     "metadata": {
      "tags": []
     },
     "output_type": "execute_result"
    },
    {
     "data": {
      "image/png": "[encoded data removed]",
      "text/plain": [
       "<Figure size 432x288 with 1 Axes>"
      ]
     },
     "metadata": {
      "needs_background": "light",
      "tags": []
     },
     "output_type": "display_data"
    }
   ],
   "source": [
    "sns.boxplot(y=df['ecg'],x=df['event'])"
   ]
  },
  {
   "cell_type": "code",
   "execution_count": null,
   "metadata": {
    "colab": {
     "base_uri": "https://localhost:8080/",
     "height": 297
    },
    "id": "iXRe0isG-5V-",
    "outputId": "1c22304b-b66f-4cab-f889-060f92c9a6bb"
   },
   "outputs": [
    {
     "data": {
      "text/plain": [
       "<matplotlib.axes._subplots.AxesSubplot at 0x7f437cc4ec90>"
      ]
     },
     "execution_count": 66,
     "metadata": {
      "tags": []
     },
     "output_type": "execute_result"
    },
    {
     "data": {
      "image/png": "[encoded data removed]",
      "text/plain": [
       "<Figure size 432x288 with 1 Axes>"
      ]
     },
     "metadata": {
      "needs_background": "light",
      "tags": []
     },
     "output_type": "display_data"
    }
   ],
   "source": [
    "sns.boxplot(y=df['r'],x=df['event'])"
   ]
  },
  {
   "cell_type": "code",
   "execution_count": null,
   "metadata": {
    "colab": {
     "base_uri": "https://localhost:8080/",
     "height": 297
    },
    "id": "wBexYF7A-5V-",
    "outputId": "f65ee700-4de3-4a01-c3dd-1c3adacce2ec"
   },
   "outputs": [
    {
     "data": {
      "text/plain": [
       "<matplotlib.axes._subplots.AxesSubplot at 0x7f437d168a50>"
      ]
     },
     "execution_count": 67,
     "metadata": {
      "tags": []
     },
     "output_type": "execute_result"
    },
    {
     "data": {
      "image/png": "[encoded data removed]",
      "text/plain": [
       "<Figure size 432x288 with 1 Axes>"
      ]
     },
     "metadata": {
      "needs_background": "light",
      "tags": []
     },
     "output_type": "display_data"
    }
   ],
   "source": [
    "sns.boxplot(y=df['gsr'],x=df['event'])"
   ]
  },
  {
   "cell_type": "markdown",
   "metadata": {
    "id": "Jduu4ffv-5WA"
   },
   "source": [
    "Thus based on the code above we can see that we can\n",
    "see that the variables 'ecg' and 'gsr' are highly correlated with 'event' column"
   ]
  },
  {
   "cell_type": "markdown",
   "metadata": {
    "id": "rlyMo_gM-5WA"
   },
   "source": [
    "# Performing the feature extraction process on the dataset"
   ]
  },
  {
   "cell_type": "code",
   "execution_count": null,
   "metadata": {
    "id": "INDkR2b2-5WA"
   },
   "outputs": [],
   "source": [
    "df['minute']=(df['time']//60).apply(int)"
   ]
  },
  {
   "cell_type": "code",
   "execution_count": null,
   "metadata": {
    "id": "cIo3LXEda0gb"
   },
   "outputs": [],
   "source": [
    "df['eeg_mean'] = df[eeg_cols].mean(axis=1)\n",
    "df['eeg_min'] = df[eeg_cols].min(axis=1)\n",
    "df['eeg_var'] = df[eeg_cols].var(axis=1)\n",
    "df['eeg_std'] = df[eeg_cols].std(axis=1)\n",
    "df['eeg_max'] = df[eeg_cols].max(axis=1)"
   ]
  },
  {
   "cell_type": "code",
   "execution_count": null,
   "metadata": {
    "colab": {
     "base_uri": "https://localhost:8080/"
    },
    "id": "n5xtS5yebZxj",
    "outputId": "6d2ff639-853e-4a19-8807-d08f5e426c25"
   },
   "outputs": [
    {
     "data": {
      "text/plain": [
       "A    2848809\n",
       "C    1652686\n",
       "D     235329\n",
       "B     130597\n",
       "Name: event, dtype: int64"
      ]
     },
     "execution_count": 27,
     "metadata": {
      "tags": []
     },
     "output_type": "execute_result"
    }
   ],
   "source": [
    "df.event.value_counts()"
   ]
  },
  {
   "cell_type": "code",
   "execution_count": null,
   "metadata": {
    "id": "IQZfuLF4-5WC"
   },
   "outputs": [],
   "source": [
    "def Kruskal_Wallis_test(col):\n",
    "    \n",
    "    reject=0\n",
    "    accept=0\n",
    "    for i in range(15):\n",
    "        col_grouped_A = df.loc[df.event=='A'][col].sample(100000).values\n",
    "        col_grouped_B = df.loc[df.event=='B'][col].sample(100000).values\n",
    "        col_grouped_C = df.loc[df.event=='C'][col].sample(100000).values\n",
    "        col_grouped_D = df.loc[df.event=='D'][col].sample(100000).values\n",
    "        H, pval = kruskalwallis(col_grouped_A,col_grouped_B,col_grouped_C,col_grouped_D)\n",
    "        if pval < 0.05:\n",
    "            reject+=1\n",
    "        else:\n",
    "            accept+=1\n",
    "    results_dict = {'Accept':accept,'reject':reject}\n",
    "\n",
    "    return results_dict"
   ]
  },
  {
   "cell_type": "code",
   "execution_count": null,
   "metadata": {
    "colab": {
     "base_uri": "https://localhost:8080/"
    },
    "id": "1xlC581d-5WD",
    "outputId": "71ce7b59-997b-499b-dd91-37284add2a51"
   },
   "outputs": [
    {
     "name": "stdout",
     "output_type": "stream",
     "text": [
      "The results for column variable time are\n",
      "{'Accept': 0, 'reject': 15}\n",
      "The results for column variable eeg_fp1 are\n",
      "{'Accept': 0, 'reject': 15}\n",
      "The results for column variable eeg_f7 are\n",
      "{'Accept': 0, 'reject': 15}\n",
      "The results for column variable eeg_f8 are\n",
      "{'Accept': 12, 'reject': 3}\n",
      "The results for column variable eeg_t4 are\n",
      "{'Accept': 9, 'reject': 6}\n",
      "The results for column variable eeg_t6 are\n",
      "{'Accept': 6, 'reject': 9}\n",
      "The results for column variable eeg_t5 are\n",
      "{'Accept': 1, 'reject': 14}\n",
      "The results for column variable eeg_t3 are\n",
      "{'Accept': 1, 'reject': 14}\n",
      "The results for column variable eeg_fp2 are\n",
      "{'Accept': 0, 'reject': 15}\n",
      "The results for column variable eeg_o1 are\n",
      "{'Accept': 3, 'reject': 12}\n",
      "The results for column variable eeg_p3 are\n",
      "{'Accept': 3, 'reject': 12}\n",
      "The results for column variable eeg_pz are\n",
      "{'Accept': 0, 'reject': 15}\n",
      "The results for column variable eeg_f3 are\n",
      "{'Accept': 0, 'reject': 15}\n",
      "The results for column variable eeg_fz are\n",
      "{'Accept': 0, 'reject': 15}\n",
      "The results for column variable eeg_f4 are\n",
      "{'Accept': 0, 'reject': 15}\n",
      "The results for column variable eeg_c4 are\n",
      "{'Accept': 15, 'reject': 0}\n",
      "The results for column variable eeg_p4 are\n",
      "{'Accept': 15, 'reject': 0}\n",
      "The results for column variable eeg_poz are\n",
      "{'Accept': 7, 'reject': 8}\n",
      "The results for column variable eeg_c3 are\n",
      "{'Accept': 0, 'reject': 15}\n",
      "The results for column variable eeg_cz are\n",
      "{'Accept': 10, 'reject': 5}\n",
      "The results for column variable eeg_o2 are\n",
      "{'Accept': 0, 'reject': 15}\n",
      "The results for column variable ecg are\n",
      "{'Accept': 0, 'reject': 15}\n",
      "The results for column variable r are\n",
      "{'Accept': 7, 'reject': 8}\n",
      "The results for column variable gsr are\n",
      "{'Accept': 0, 'reject': 15}\n"
     ]
    }
   ],
   "source": [
    "for col in numerical_cols:\n",
    "    print(\"The results for column variable {} are\".format(col))\n",
    "    print(Kruskal_Wallis_test(col))"
   ]
  },
  {
   "cell_type": "code",
   "execution_count": null,
   "metadata": {
    "colab": {
     "base_uri": "https://localhost:8080/"
    },
    "id": "cF6buILi-5WD",
    "outputId": "40b211bb-8614-45a8-c153-033943bf05f5"
   },
   "outputs": [
    {
     "name": "stdout",
     "output_type": "stream",
     "text": [
      "The results for column variable minute are\n",
      "{'Accept': 0, 'reject': 15}\n"
     ]
    }
   ],
   "source": [
    "print(\"The results for column variable {} are\".format('minute'))\n",
    "print(Kruskal_Wallis_test('minute'))"
   ]
  },
  {
   "cell_type": "markdown",
   "metadata": {
    "id": "upJjOaS5MUk-"
   },
   "source": [
    "Based on the above code the following columns seems to have a dependent relationship with the target variable 'event' column:\n",
    "**'time','eeg_fp1','eeg_f7','eeg_t6','eeg_t5','eeg_t3','eeg_fp2','eeg_o1','eeg_p3','eeg_pz','eeg_f3','eeg_fz','eeg_f4','eeg_c3','eeg_poz','eeg_o2','ecg','r','gsr','minute'**"
   ]
  },
  {
   "cell_type": "code",
   "execution_count": null,
   "metadata": {
    "id": "3KK9EyWp-5WE"
   },
   "outputs": [],
   "source": [
    "correlated_continuous_cols=['time',\n",
    " 'eeg_fp1',\n",
    " 'eeg_f7',\n",
    " 'eeg_t4',\n",
    " 'eeg_t6',\n",
    " 'eeg_t5',\n",
    " 'eeg_t3',\n",
    " 'eeg_fp2',\n",
    " 'eeg_o1',\n",
    " 'eeg_p3',\n",
    " 'eeg_pz',\n",
    " 'eeg_f3',\n",
    " 'eeg_fz',\n",
    " 'eeg_f4',\n",
    " 'eeg_c3',\n",
    " 'eeg_poz',\n",
    " 'eeg_o2',\n",
    " 'ecg',\n",
    " 'r',\n",
    " 'gsr','minute']"
   ]
  },
  {
   "cell_type": "code",
   "execution_count": null,
   "metadata": {
    "colab": {
     "base_uri": "https://localhost:8080/",
     "height": 886
    },
    "id": "j0eZSjGa-5WE",
    "outputId": "3d571e9b-0f81-4731-da6d-fbf94ab30dd4"
   },
   "outputs": [
    {
     "data": {
      "text/plain": [
       "<matplotlib.axes._subplots.AxesSubplot at 0x7f27214f1790>"
      ]
     },
     "execution_count": 45,
     "metadata": {
      "tags": []
     },
     "output_type": "execute_result"
    },
    {
     "data": {
      "image/png": "[encoded data removed]",
      "text/plain": [
       "<Figure size 1440x1080 with 2 Axes>"
      ]
     },
     "metadata": {
      "needs_background": "light",
      "tags": []
     },
     "output_type": "display_data"
    }
   ],
   "source": [
    "#Plotting the heatmap to identify correlations between continuous variables\n",
    "plt.figure(figsize=(20,15))\n",
    "corr_matrix = df[correlated_continuous_cols].corr()\n",
    "sns.heatmap(corr_matrix,cmap='Accent',annot=True)"
   ]
  },
  {
   "cell_type": "markdown",
   "metadata": {
    "id": "ysUdX0Zl8czT"
   },
   "source": [
    "Based on the above heatmap analysis we can see that the columns 'eeg_fp1',eeg_p3 and minute have high correlation with other subsequent numerical columns and hence, they are eliminated "
   ]
  },
  {
   "cell_type": "code",
   "execution_count": null,
   "metadata": {
    "id": "LjVUz1-teYZk"
   },
   "outputs": [],
   "source": [
    "for col in ['eeg_fp1','eeg_p3','minute','eeg_poz']:\n",
    "  correlated_continuous_cols.remove(col)"
   ]
  },
  {
   "cell_type": "markdown",
   "metadata": {
    "id": "3u8_5o9qSgu7"
   },
   "source": [
    "# Finding dependecy between independent continuous and categorical columns to eliminate multicollinearity"
   ]
  },
  {
   "cell_type": "code",
   "execution_count": null,
   "metadata": {
    "id": "lTRahEag-0iB"
   },
   "outputs": [],
   "source": [
    "def multicollinearity_expt(col):\n",
    "    \n",
    "    grouped_df_list=[]\n",
    "    for i in df.crew.unique().tolist():\n",
    "        grouped_df_list.append(df.loc[df.crew==i,col].values)\n",
    "\n",
    "    H, pval = kruskalwallis(*grouped_df_list)\n",
    "    if pval < 0.05:\n",
    "        print(\"Null Hypothesis rejected.Significant differences arise between groups \\n\")\n",
    "    else:\n",
    "        print(\"Fail to reject Null Hypothesis rejected.No Significant differences between groups \\n\")"
   ]
  },
  {
   "cell_type": "code",
   "execution_count": null,
   "metadata": {
    "colab": {
     "background_save": true,
     "base_uri": "https://localhost:8080/"
    },
    "id": "42CXKFePMRAN",
    "outputId": "1ef0ef01-bbff-4e85-875e-ff128894600d"
   },
   "outputs": [
    {
     "name": "stdout",
     "output_type": "stream",
     "text": [
      "For column  time  the test result is\n",
      "Null Hypothesis rejected.Significant differences arise between groups \n",
      "\n",
      "For column  eeg_f7  the test result is\n",
      "Null Hypothesis rejected.Significant differences arise between groups \n",
      "\n",
      "For column  eeg_t4  the test result is\n",
      "Null Hypothesis rejected.Significant differences arise between groups \n",
      "\n",
      "For column  eeg_t6  the test result is\n",
      "Null Hypothesis rejected.Significant differences arise between groups \n",
      "\n",
      "For column  eeg_t5  the test result is\n",
      "Null Hypothesis rejected.Significant differences arise between groups \n",
      "\n",
      "For column  eeg_t3  the test result is\n",
      "Null Hypothesis rejected.Significant differences arise between groups \n",
      "\n",
      "For column  eeg_fp2  the test result is\n",
      "Null Hypothesis rejected.Significant differences arise between groups \n",
      "\n",
      "For column  eeg_o1  the test result is\n",
      "Null Hypothesis rejected.Significant differences arise between groups \n",
      "\n",
      "For column  eeg_pz  the test result is\n",
      "Null Hypothesis rejected.Significant differences arise between groups \n",
      "\n",
      "For column  eeg_f3  the test result is\n",
      "Null Hypothesis rejected.Significant differences arise between groups \n",
      "\n",
      "For column  eeg_fz  the test result is\n",
      "Null Hypothesis rejected.Significant differences arise between groups \n",
      "\n",
      "For column  eeg_f4  the test result is\n",
      "Null Hypothesis rejected.Significant differences arise between groups \n",
      "\n",
      "For column  eeg_c3  the test result is\n",
      "Null Hypothesis rejected.Significant differences arise between groups \n",
      "\n",
      "For column  eeg_o2  the test result is\n",
      "Null Hypothesis rejected.Significant differences arise between groups \n",
      "\n",
      "For column  ecg  the test result is\n",
      "Null Hypothesis rejected.Significant differences arise between groups \n",
      "\n",
      "For column  r  the test result is\n",
      "Null Hypothesis rejected.Significant differences arise between groups \n",
      "\n",
      "For column  gsr  the test result is\n",
      "Null Hypothesis rejected.Significant differences arise between groups \n",
      "\n"
     ]
    }
   ],
   "source": [
    "for col in correlated_continuous_cols:\n",
    "  print(\"For column \",col,\" the test result is\")\n",
    "  multicollinearity_expt(col)"
   ]
  },
  {
   "cell_type": "markdown",
   "metadata": {
    "id": "uWXpgcto6HLR"
   },
   "source": [
    "As we can see from the experiment results above,that almost all the continuous variables have showing dependency with the categorical variable 'crew'.Hence,we are eliminating the variable 'crew' from the model building process as it may contribute towards multicollinearity"
   ]
  },
  {
   "cell_type": "markdown",
   "metadata": {
    "id": "mVKNtwk3Dl4g"
   },
   "source": [
    "## Performing One-hot encoding on the categorical columns and scaling the continuous correlated columns"
   ]
  },
  {
   "cell_type": "code",
   "execution_count": null,
   "metadata": {
    "id": "YoyB5dv4g0kF"
   },
   "outputs": [],
   "source": [
    "from sklearn.preprocessing import StandardScaler\n",
    "\n",
    "ss = StandardScaler()\n",
    "transformed_data=ss.fit_transform(df[correlated_continuous_cols])"
   ]
  },
  {
   "cell_type": "code",
   "execution_count": null,
   "metadata": {
    "id": "HH0-P7rS-_e2"
   },
   "outputs": [],
   "source": [
    "with open('scaler.pkl','wb') as file:\n",
    "  pkl.dump(ss,file)"
   ]
  },
  {
   "cell_type": "code",
   "execution_count": null,
   "metadata": {
    "id": "w8cPDe3ckuQe"
   },
   "outputs": [],
   "source": [
    "df[correlated_continuous_cols] = transformed_data"
   ]
  },
  {
   "cell_type": "code",
   "execution_count": null,
   "metadata": {
    "colab": {
     "base_uri": "https://localhost:8080/"
    },
    "id": "dyXwSBjUHDae",
    "outputId": "a2d4523c-24a0-40c8-9784-b509d913f73e"
   },
   "outputs": [
    {
     "name": "stdout",
     "output_type": "stream",
     "text": [
      "<class 'pandas.core.frame.DataFrame'>\n",
      "RangeIndex: 4867421 entries, 0 to 4867420\n",
      "Data columns (total 34 columns):\n",
      " #   Column      Dtype  \n",
      "---  ------      -----  \n",
      " 0   crew        int64  \n",
      " 1   experiment  object \n",
      " 2   time        float64\n",
      " 3   seat        int64  \n",
      " 4   eeg_fp1     float32\n",
      " 5   eeg_f7      float64\n",
      " 6   eeg_f8      float32\n",
      " 7   eeg_t4      float64\n",
      " 8   eeg_t6      float64\n",
      " 9   eeg_t5      float64\n",
      " 10  eeg_t3      float64\n",
      " 11  eeg_fp2     float64\n",
      " 12  eeg_o1      float64\n",
      " 13  eeg_p3      float32\n",
      " 14  eeg_pz      float64\n",
      " 15  eeg_f3      float64\n",
      " 16  eeg_fz      float64\n",
      " 17  eeg_f4      float64\n",
      " 18  eeg_c4      float32\n",
      " 19  eeg_p4      float32\n",
      " 20  eeg_poz     float32\n",
      " 21  eeg_c3      float64\n",
      " 22  eeg_cz      float32\n",
      " 23  eeg_o2      float64\n",
      " 24  ecg         float64\n",
      " 25  r           float64\n",
      " 26  gsr         float64\n",
      " 27  event       object \n",
      " 28  minute      int64  \n",
      " 29  eeg_mean    float32\n",
      " 30  eeg_min     float32\n",
      " 31  eeg_var     float32\n",
      " 32  eeg_std     float32\n",
      " 33  eeg_max     float32\n",
      "dtypes: float32(12), float64(17), int64(3), object(2)\n",
      "memory usage: 1.0+ GB\n"
     ]
    }
   ],
   "source": [
    "df.info()"
   ]
  },
  {
   "cell_type": "code",
   "execution_count": null,
   "metadata": {
    "id": "WshmL5ODGtwx"
   },
   "outputs": [],
   "source": [
    "final_cols=correlated_continuous_cols"
   ]
  },
  {
   "cell_type": "markdown",
   "metadata": {
    "id": "qneFA5Ui-5WH"
   },
   "source": [
    "# Model building process"
   ]
  },
  {
   "cell_type": "markdown",
   "metadata": {
    "id": "tcmoRJS7-5WH"
   },
   "source": [
    "For multiclass classification generally tree based,Bayes and KNN algorithms are found to be yield good results"
   ]
  },
  {
   "cell_type": "code",
   "execution_count": null,
   "metadata": {
    "id": "l4fqml7C-5WH"
   },
   "outputs": [],
   "source": [
    "from sklearn.ensemble import RandomForestClassifier\n",
    "from sklearn.naive_bayes import GaussianNB\n",
    "from sklearn.neighbors import KNeighborsClassifier\n",
    "from xgboost import XGBClassifier\n",
    "from sklearn.svm import SVC\n",
    "from sklearn.model_selection import cross_val_score\n",
    "from xgboost import XGBClassifier"
   ]
  },
  {
   "cell_type": "code",
   "execution_count": null,
   "metadata": {
    "id": "cDdU94NF-5WH"
   },
   "outputs": [],
   "source": [
    "#Splitting the dataframe into train-test\n",
    "from sklearn.model_selection import train_test_split"
   ]
  },
  {
   "cell_type": "code",
   "execution_count": null,
   "metadata": {
    "id": "AZtgssDd-5WH"
   },
   "outputs": [],
   "source": [
    "#Importing the metrics\n",
    "from sklearn.metrics import precision_score,recall_score,accuracy_score,confusion_matrix,classification_report,log_loss,roc_auc_score"
   ]
  },
  {
   "cell_type": "code",
   "execution_count": null,
   "metadata": {
    "id": "vqU6HNK5ECL7"
   },
   "outputs": [],
   "source": [
    "#Defining the dependent and independent features for training our models\n",
    "X = df[final_cols]\n",
    "y = df['event']"
   ]
  },
  {
   "cell_type": "code",
   "execution_count": null,
   "metadata": {
    "id": "Rn-q0HzlD5KS"
   },
   "outputs": [],
   "source": [
    "X_train,X_test,y_train,y_test = train_test_split(X,y,random_state=12)"
   ]
  },
  {
   "cell_type": "code",
   "execution_count": null,
   "metadata": {
    "colab": {
     "base_uri": "https://localhost:8080/"
    },
    "id": "FK73MJXqDoIt",
    "outputId": "2a981c5e-f98c-4c37-ebfc-195a9fb214ef"
   },
   "outputs": [
    {
     "data": {
      "text/plain": [
       "RandomForestClassifier(bootstrap=True, ccp_alpha=0.0, class_weight=None,\n",
       "                       criterion='gini', max_depth=None, max_features='auto',\n",
       "                       max_leaf_nodes=None, max_samples=None,\n",
       "                       min_impurity_decrease=0.0, min_impurity_split=None,\n",
       "                       min_samples_leaf=1, min_samples_split=2,\n",
       "                       min_weight_fraction_leaf=0.0, n_estimators=64, n_jobs=-1,\n",
       "                       oob_score=False, random_state=None, verbose=0,\n",
       "                       warm_start=False)"
      ]
     },
     "execution_count": 60,
     "metadata": {
      "tags": []
     },
     "output_type": "execute_result"
    }
   ],
   "source": [
    "rf = RandomForestClassifier(n_estimators=64,n_jobs=-1)\n",
    "rf.fit(X_train,y_train)"
   ]
  },
  {
   "cell_type": "code",
   "execution_count": null,
   "metadata": {
    "id": "oJ6hfJUCvXza"
   },
   "outputs": [],
   "source": [
    "# Save to rnadom_forest model in the current working directory\n",
    "pkl_filename = \"rf_model.pkl\"\n",
    "with open(pkl_filename, 'wb') as file:\n",
    "    pkl.dump(rf, file)"
   ]
  },
  {
   "cell_type": "code",
   "execution_count": null,
   "metadata": {
    "id": "7vACyUhMFLCg"
   },
   "outputs": [],
   "source": [
    "rf_pred = rf.predict(X_test)"
   ]
  },
  {
   "cell_type": "code",
   "execution_count": null,
   "metadata": {
    "id": "9aBy7_i2Hhig"
   },
   "outputs": [],
   "source": [
    "#defining the custom log-loss for multiclass classification instance\n",
    "def multiclasslogloss(pred,test):\n",
    "  test_score={}\n",
    "  test_dum = pd.get_dummies(test)\n",
    "  pred_dum = pd.get_dummies(pred)\n",
    "  for col in test_dum.columns:\n",
    "      temp = log_loss(test_dum[col],pred_dum[col])\n",
    "      test_score[col]=temp\n",
    "\n",
    "  return pd.DataFrame(test_score,index=[0])"
   ]
  },
  {
   "cell_type": "code",
   "execution_count": null,
   "metadata": {
    "colab": {
     "base_uri": "https://localhost:8080/"
    },
    "id": "njmycTvE1STD",
    "outputId": "7aac30a7-6bfe-47c4-e10c-5ddd12df85a9"
   },
   "outputs": [
    {
     "data": {
      "text/plain": [
       "1.0"
      ]
     },
     "execution_count": 70,
     "metadata": {
      "tags": []
     },
     "output_type": "execute_result"
    }
   ],
   "source": [
    "#Calculating the accuracy on the train dataset\n",
    "rf.score(X_train,y_train)"
   ]
  },
  {
   "cell_type": "code",
   "execution_count": null,
   "metadata": {
    "colab": {
     "base_uri": "https://localhost:8080/"
    },
    "id": "dvUNg80uEins",
    "outputId": "e37e4f10-a57d-442a-ee5a-e64fde811487"
   },
   "outputs": [
    {
     "data": {
      "text/plain": [
       "0.9985454318341693"
      ]
     },
     "execution_count": 64,
     "metadata": {
      "tags": []
     },
     "output_type": "execute_result"
    }
   ],
   "source": [
    "#Calculating the accuracy on the test dataset\n",
    "rf.score(X_test,y_test)"
   ]
  },
  {
   "cell_type": "code",
   "execution_count": null,
   "metadata": {
    "colab": {
     "base_uri": "https://localhost:8080/",
     "height": 76
    },
    "id": "PH68oIIhTkny",
    "outputId": "15a11ac8-50fd-4ae1-e935-027044c57481"
   },
   "outputs": [
    {
     "data": {
      "text/html": [
       "<div>\n",
       "<style scoped>\n",
       "    .dataframe tbody tr th:only-of-type {\n",
       "        vertical-align: middle;\n",
       "    }\n",
       "\n",
       "    .dataframe tbody tr th {\n",
       "        vertical-align: top;\n",
       "    }\n",
       "\n",
       "    .dataframe thead th {\n",
       "        text-align: right;\n",
       "    }\n",
       "</style>\n",
       "<table border=\"1\" class=\"dataframe\">\n",
       "  <thead>\n",
       "    <tr style=\"text-align: right;\">\n",
       "      <th></th>\n",
       "      <th>A</th>\n",
       "      <th>B</th>\n",
       "      <th>C</th>\n",
       "      <th>D</th>\n",
       "    </tr>\n",
       "  </thead>\n",
       "  <tbody>\n",
       "    <tr>\n",
       "      <th>0</th>\n",
       "      <td>0.04984</td>\n",
       "      <td>0.00133</td>\n",
       "      <td>0.00599</td>\n",
       "      <td>0.04331</td>\n",
       "    </tr>\n",
       "  </tbody>\n",
       "</table>\n",
       "</div>"
      ],
      "text/plain": [
       "        A       B       C       D\n",
       "0 0.04984 0.00133 0.00599 0.04331"
      ]
     },
     "execution_count": 65,
     "metadata": {
      "tags": []
     },
     "output_type": "execute_result"
    }
   ],
   "source": [
    "multiclasslogloss(rf_pred,y_test)"
   ]
  },
  {
   "cell_type": "code",
   "execution_count": null,
   "metadata": {
    "colab": {
     "base_uri": "https://localhost:8080/"
    },
    "id": "uaN9jwTlFGEy",
    "outputId": "8b788cdd-a7a8-4d6c-b55e-1f79c561188d"
   },
   "outputs": [
    {
     "name": "stdout",
     "output_type": "stream",
     "text": [
      "              precision    recall  f1-score   support\n",
      "\n",
      "           A       1.00      1.00      1.00    712562\n",
      "           B       1.00      1.00      1.00     32626\n",
      "           C       1.00      1.00      1.00    413087\n",
      "           D       1.00      0.97      0.99     58581\n",
      "\n",
      "    accuracy                           1.00   1216856\n",
      "   macro avg       1.00      0.99      1.00   1216856\n",
      "weighted avg       1.00      1.00      1.00   1216856\n",
      "\n"
     ]
    }
   ],
   "source": [
    "print(classification_report(y_test,rf_pred))"
   ]
  },
  {
   "cell_type": "markdown",
   "metadata": {
    "id": "LfL3tX-PZ-Fl"
   },
   "source": [
    "Building a xgboost model"
   ]
  },
  {
   "cell_type": "code",
   "execution_count": null,
   "metadata": {
    "id": "7rSl7fB9Zy7h"
   },
   "outputs": [],
   "source": [
    "xgb = XGBClassifier(objective='objective=multi:softmax',random_state=12)"
   ]
  },
  {
   "cell_type": "code",
   "execution_count": null,
   "metadata": {
    "colab": {
     "base_uri": "https://localhost:8080/"
    },
    "id": "2znTtI34aVRW",
    "outputId": "0981e804-73ec-4217-d214-6900be09c96a"
   },
   "outputs": [
    {
     "data": {
      "text/plain": [
       "XGBClassifier(base_score=0.5, booster='gbtree', colsample_bylevel=1,\n",
       "              colsample_bynode=1, colsample_bytree=1, gamma=0,\n",
       "              learning_rate=0.1, max_delta_step=0, max_depth=3,\n",
       "              min_child_weight=1, missing=None, n_estimators=100, n_jobs=1,\n",
       "              nthread=None, objective='multi:softprob', random_state=12,\n",
       "              reg_alpha=0, reg_lambda=1, scale_pos_weight=1, seed=None,\n",
       "              silent=None, subsample=1, verbosity=1)"
      ]
     },
     "execution_count": 68,
     "metadata": {
      "tags": []
     },
     "output_type": "execute_result"
    }
   ],
   "source": [
    "xgb.fit(X_train,y_train)"
   ]
  },
  {
   "cell_type": "code",
   "execution_count": null,
   "metadata": {
    "colab": {
     "base_uri": "https://localhost:8080/"
    },
    "id": "nGXLj0Nl1oji",
    "outputId": "2a24660c-de0b-43ae-a394-8e014385df04"
   },
   "outputs": [
    {
     "data": {
      "text/plain": [
       "0.8430900422263403"
      ]
     },
     "execution_count": 71,
     "metadata": {
      "tags": []
     },
     "output_type": "execute_result"
    }
   ],
   "source": [
    "#Calculating the accuracy on the train dataset\n",
    "xgb.score(X_train,y_train)"
   ]
  },
  {
   "cell_type": "code",
   "execution_count": null,
   "metadata": {
    "colab": {
     "base_uri": "https://localhost:8080/"
    },
    "id": "IMkHy3QBbs4K",
    "outputId": "241385af-604d-4009-a767-654dc1f78e08"
   },
   "outputs": [
    {
     "data": {
      "text/plain": [
       "0.8435936544669214"
      ]
     },
     "execution_count": 69,
     "metadata": {
      "tags": []
     },
     "output_type": "execute_result"
    }
   ],
   "source": [
    "xgb.score(X_test,y_test)"
   ]
  },
  {
   "cell_type": "code",
   "execution_count": null,
   "metadata": {
    "id": "QB8U5Zj-uwG2"
   },
   "outputs": [],
   "source": [
    "xgb_pred=xgb.predict(X_test)"
   ]
  },
  {
   "cell_type": "code",
   "execution_count": null,
   "metadata": {
    "colab": {
     "base_uri": "https://localhost:8080/",
     "height": 76
    },
    "id": "lyatiEw6079B",
    "outputId": "3c7e1e9f-e215-46ae-9dd5-fb9e61e5f08e"
   },
   "outputs": [
    {
     "data": {
      "text/html": [
       "<div>\n",
       "<style scoped>\n",
       "    .dataframe tbody tr th:only-of-type {\n",
       "        vertical-align: middle;\n",
       "    }\n",
       "\n",
       "    .dataframe tbody tr th {\n",
       "        vertical-align: top;\n",
       "    }\n",
       "\n",
       "    .dataframe thead th {\n",
       "        text-align: right;\n",
       "    }\n",
       "</style>\n",
       "<table border=\"1\" class=\"dataframe\">\n",
       "  <thead>\n",
       "    <tr style=\"text-align: right;\">\n",
       "      <th></th>\n",
       "      <th>A</th>\n",
       "      <th>B</th>\n",
       "      <th>C</th>\n",
       "      <th>D</th>\n",
       "    </tr>\n",
       "  </thead>\n",
       "  <tbody>\n",
       "    <tr>\n",
       "      <th>0</th>\n",
       "      <td>5.36596</td>\n",
       "      <td>0.87030</td>\n",
       "      <td>2.91205</td>\n",
       "      <td>1.65599</td>\n",
       "    </tr>\n",
       "  </tbody>\n",
       "</table>\n",
       "</div>"
      ],
      "text/plain": [
       "        A       B       C       D\n",
       "0 5.36596 0.87030 2.91205 1.65599"
      ]
     },
     "execution_count": 73,
     "metadata": {
      "tags": []
     },
     "output_type": "execute_result"
    }
   ],
   "source": [
    "multiclasslogloss(xgb_pred,y_test)"
   ]
  },
  {
   "cell_type": "code",
   "execution_count": null,
   "metadata": {
    "colab": {
     "base_uri": "https://localhost:8080/"
    },
    "id": "-5bP1zSwuq-T",
    "outputId": "c2e2122c-b210-425f-f2e4-e5e99078e733"
   },
   "outputs": [
    {
     "name": "stdout",
     "output_type": "stream",
     "text": [
      "              precision    recall  f1-score   support\n",
      "\n",
      "           A       0.80      0.99      0.88    712562\n",
      "           B       0.82      0.08      0.14     32626\n",
      "           C       0.97      0.77      0.86    413087\n",
      "           D       0.99      0.00      0.01     58581\n",
      "\n",
      "    accuracy                           0.84   1216856\n",
      "   macro avg       0.89      0.46      0.47   1216856\n",
      "weighted avg       0.87      0.84      0.81   1216856\n",
      "\n"
     ]
    }
   ],
   "source": [
    "print(classification_report(y_test,xgb_pred))"
   ]
  },
  {
   "cell_type": "code",
   "execution_count": null,
   "metadata": {
    "id": "iKeIa4Ckb16s"
   },
   "outputs": [],
   "source": [
    "# Save to xgboost model in the current working directory\n",
    "pkl_filename = \"xgb_model.pkl\"\n",
    "with open(pkl_filename, 'wb') as file:\n",
    "    pkl.dump(xgb, file)"
   ]
  },
  {
   "cell_type": "markdown",
   "metadata": {
    "id": "xhaO0GY1X-TL"
   },
   "source": [
    "Building a KNN Classifier"
   ]
  },
  {
   "cell_type": "code",
   "execution_count": null,
   "metadata": {
    "id": "FAKRygCO7t0V"
   },
   "outputs": [],
   "source": [
    "test_datatypes = {}\n",
    "\n",
    "for col in correlated_continuous_cols:\n",
    "       test_datatypes[col]=np.float32"
   ]
  },
  {
   "cell_type": "code",
   "execution_count": null,
   "metadata": {
    "id": "dnKivZtZ766D"
   },
   "outputs": [],
   "source": [
    "test = pd.read_csv('test.csv.zip',dtype=test_datatypes,usecols=correlated_continuous_cols)"
   ]
  },
  {
   "cell_type": "code",
   "execution_count": null,
   "metadata": {
    "colab": {
     "base_uri": "https://localhost:8080/"
    },
    "id": "2EkO8eWQ9YgM",
    "outputId": "2655e6c0-f526-4a5a-87c3-cee8145a41e0"
   },
   "outputs": [
    {
     "name": "stdout",
     "output_type": "stream",
     "text": [
      "<class 'pandas.core.frame.DataFrame'>\n",
      "RangeIndex: 17965143 entries, 0 to 17965142\n",
      "Data columns (total 17 columns):\n",
      " #   Column   Dtype  \n",
      "---  ------   -----  \n",
      " 0   time     float32\n",
      " 1   eeg_f7   float32\n",
      " 2   eeg_t4   float32\n",
      " 3   eeg_t6   float32\n",
      " 4   eeg_t5   float32\n",
      " 5   eeg_t3   float32\n",
      " 6   eeg_fp2  float32\n",
      " 7   eeg_o1   float32\n",
      " 8   eeg_pz   float32\n",
      " 9   eeg_f3   float32\n",
      " 10  eeg_fz   float32\n",
      " 11  eeg_f4   float32\n",
      " 12  eeg_c3   float32\n",
      " 13  eeg_o2   float32\n",
      " 14  ecg      float32\n",
      " 15  r        float32\n",
      " 16  gsr      float32\n",
      "dtypes: float32(17)\n",
      "memory usage: 1.1 GB\n"
     ]
    }
   ],
   "source": [
    "test.info()"
   ]
  },
  {
   "cell_type": "code",
   "execution_count": null,
   "metadata": {
    "id": "hvLx76jS9tue"
   },
   "outputs": [],
   "source": [
    "for col in correlated_continuous_cols:\n",
    "  test=remove_outlier(test,col)"
   ]
  },
  {
   "cell_type": "code",
   "execution_count": null,
   "metadata": {
    "id": "SjnXejQj-upf"
   },
   "outputs": [],
   "source": [
    "test[correlated_continuous_cols]=ss.transform(test[correlated_continuous_cols])"
   ]
  },
  {
   "cell_type": "code",
   "execution_count": null,
   "metadata": {
    "id": "IAbcpF8c_pBh"
   },
   "outputs": [],
   "source": [
    "rf_test_pred = rf.predict(test)"
   ]
  },
  {
   "cell_type": "code",
   "execution_count": null,
   "metadata": {
    "id": "kWdi-rcBAglm"
   },
   "outputs": [],
   "source": [
    "test_rf = pd.get_dummies(rf_test_pred)"
   ]
  },
  {
   "cell_type": "code",
   "execution_count": null,
   "metadata": {
    "colab": {
     "base_uri": "https://localhost:8080/",
     "height": 399
    },
    "id": "sNPo2ND8AobV",
    "outputId": "b66abe48-d00f-41b7-810e-052ebcdf5391"
   },
   "outputs": [
    {
     "data": {
      "text/html": [
       "<div>\n",
       "<style scoped>\n",
       "    .dataframe tbody tr th:only-of-type {\n",
       "        vertical-align: middle;\n",
       "    }\n",
       "\n",
       "    .dataframe tbody tr th {\n",
       "        vertical-align: top;\n",
       "    }\n",
       "\n",
       "    .dataframe thead th {\n",
       "        text-align: right;\n",
       "    }\n",
       "</style>\n",
       "<table border=\"1\" class=\"dataframe\">\n",
       "  <thead>\n",
       "    <tr style=\"text-align: right;\">\n",
       "      <th></th>\n",
       "      <th>A</th>\n",
       "      <th>B</th>\n",
       "      <th>C</th>\n",
       "      <th>D</th>\n",
       "    </tr>\n",
       "  </thead>\n",
       "  <tbody>\n",
       "    <tr>\n",
       "      <th>0</th>\n",
       "      <td>1</td>\n",
       "      <td>0</td>\n",
       "      <td>0</td>\n",
       "      <td>0</td>\n",
       "    </tr>\n",
       "    <tr>\n",
       "      <th>1</th>\n",
       "      <td>1</td>\n",
       "      <td>0</td>\n",
       "      <td>0</td>\n",
       "      <td>0</td>\n",
       "    </tr>\n",
       "    <tr>\n",
       "      <th>2</th>\n",
       "      <td>1</td>\n",
       "      <td>0</td>\n",
       "      <td>0</td>\n",
       "      <td>0</td>\n",
       "    </tr>\n",
       "    <tr>\n",
       "      <th>3</th>\n",
       "      <td>1</td>\n",
       "      <td>0</td>\n",
       "      <td>0</td>\n",
       "      <td>0</td>\n",
       "    </tr>\n",
       "    <tr>\n",
       "      <th>4</th>\n",
       "      <td>1</td>\n",
       "      <td>0</td>\n",
       "      <td>0</td>\n",
       "      <td>0</td>\n",
       "    </tr>\n",
       "    <tr>\n",
       "      <th>...</th>\n",
       "      <td>...</td>\n",
       "      <td>...</td>\n",
       "      <td>...</td>\n",
       "      <td>...</td>\n",
       "    </tr>\n",
       "    <tr>\n",
       "      <th>17965138</th>\n",
       "      <td>0</td>\n",
       "      <td>0</td>\n",
       "      <td>1</td>\n",
       "      <td>0</td>\n",
       "    </tr>\n",
       "    <tr>\n",
       "      <th>17965139</th>\n",
       "      <td>1</td>\n",
       "      <td>0</td>\n",
       "      <td>0</td>\n",
       "      <td>0</td>\n",
       "    </tr>\n",
       "    <tr>\n",
       "      <th>17965140</th>\n",
       "      <td>1</td>\n",
       "      <td>0</td>\n",
       "      <td>0</td>\n",
       "      <td>0</td>\n",
       "    </tr>\n",
       "    <tr>\n",
       "      <th>17965141</th>\n",
       "      <td>1</td>\n",
       "      <td>0</td>\n",
       "      <td>0</td>\n",
       "      <td>0</td>\n",
       "    </tr>\n",
       "    <tr>\n",
       "      <th>17965142</th>\n",
       "      <td>1</td>\n",
       "      <td>0</td>\n",
       "      <td>0</td>\n",
       "      <td>0</td>\n",
       "    </tr>\n",
       "  </tbody>\n",
       "</table>\n",
       "<p>17965143 rows × 4 columns</p>\n",
       "</div>"
      ],
      "text/plain": [
       "          A  B  C  D\n",
       "0         1  0  0  0\n",
       "1         1  0  0  0\n",
       "2         1  0  0  0\n",
       "3         1  0  0  0\n",
       "4         1  0  0  0\n",
       "...      .. .. .. ..\n",
       "17965138  0  0  1  0\n",
       "17965139  1  0  0  0\n",
       "17965140  1  0  0  0\n",
       "17965141  1  0  0  0\n",
       "17965142  1  0  0  0\n",
       "\n",
       "[17965143 rows x 4 columns]"
      ]
     },
     "execution_count": 89,
     "metadata": {
      "tags": []
     },
     "output_type": "execute_result"
    }
   ],
   "source": [
    "test_rf"
   ]
  },
  {
   "cell_type": "code",
   "execution_count": null,
   "metadata": {
    "id": "guQ1gcCKBjgE"
   },
   "outputs": [],
   "source": [
    "xgb_test_pred = xgb.predict(test)"
   ]
  },
  {
   "cell_type": "code",
   "execution_count": null,
   "metadata": {
    "id": "y7DOx-CcsSR9"
   },
   "outputs": [],
   "source": [
    "#knn = KNeighborsClassifier(n_neighbors=313)"
   ]
  },
  {
   "cell_type": "code",
   "execution_count": null,
   "metadata": {
    "id": "mjZ9_isEgBbS"
   },
   "outputs": [],
   "source": [
    "#knn.fit(X_train,y_train)"
   ]
  },
  {
   "cell_type": "code",
   "execution_count": null,
   "metadata": {
    "id": "VLz_s-4IhhcJ"
   },
   "outputs": [],
   "source": [
    "#knn_pred = knn.predict(X_test)"
   ]
  },
  {
   "cell_type": "code",
   "execution_count": null,
   "metadata": {
    "id": "UN5hmHxuhoGB"
   },
   "outputs": [],
   "source": [
    "#knn.score(X_test,y_test)"
   ]
  },
  {
   "cell_type": "code",
   "execution_count": null,
   "metadata": {
    "id": "xxjjIBbDZya0"
   },
   "outputs": [],
   "source": [
    "#print(classification_report(y_test,knn_pred))"
   ]
  },
  {
   "cell_type": "markdown",
   "metadata": {
    "id": "y1YL2QKCv7Dg"
   },
   "source": [
    "## Saving the final model in a pickle file"
   ]
  }
 ],
 "metadata": {
  "colab": {
   "collapsed_sections": [],
   "name": "aviation-fatalities-usecase_latest.ipynb",
   "provenance": []
  },
  "kernelspec": {
   "display_name": "Python 3",
   "language": "python",
   "name": "python3"
  },
  "language_info": {
   "codemirror_mode": {
    "name": "ipython",
    "version": 3
   },
   "file_extension": ".py",
   "mimetype": "text/x-python",
   "name": "python",
   "nbconvert_exporter": "python",
   "pygments_lexer": "ipython3",
   "version": "3.7.5"
  }
 },
 "nbformat": 4,
 "nbformat_minor": 1
}
